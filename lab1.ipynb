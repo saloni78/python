{
  "nbformat": 4,
  "nbformat_minor": 0,
  "metadata": {
    "colab": {
      "name": "lab1.ipynb",
      "provenance": [],
      "authorship_tag": "ABX9TyPnKrLHlEG5zP60rL3FUUx2",
      "include_colab_link": true
    },
    "kernelspec": {
      "name": "python3",
      "display_name": "Python 3"
    },
    "language_info": {
      "name": "python"
    }
  },
  "cells": [
    {
      "cell_type": "markdown",
      "metadata": {
        "id": "view-in-github",
        "colab_type": "text"
      },
      "source": [
        "<a href=\"https://colab.research.google.com/github/saloni78/python/blob/main/lab1.ipynb\" target=\"_parent\"><img src=\"https://colab.research.google.com/assets/colab-badge.svg\" alt=\"Open In Colab\"/></a>"
      ]
    },
    {
      "cell_type": "markdown",
      "metadata": {
        "id": "n680AnOqrF3b"
      },
      "source": [
        "### Variable"
      ]
    },
    {
      "cell_type": "code",
      "metadata": {
        "id": "fNflosUXVZk4",
        "colab": {
          "base_uri": "https://localhost:8080/"
        },
        "outputId": "db3b6f45-8139-4d28-e312-35ecf5f6d450"
      },
      "source": [
        "total_count=550\n",
        "print(total_count)"
      ],
      "execution_count": 1,
      "outputs": [
        {
          "output_type": "stream",
          "text": [
            "550\n"
          ],
          "name": "stdout"
        }
      ]
    },
    {
      "cell_type": "code",
      "metadata": {
        "colab": {
          "base_uri": "https://localhost:8080/"
        },
        "id": "CxQw5FiZrOY1",
        "outputId": "6691515d-131a-4f55-def0-5663f2e1a968"
      },
      "source": [
        "number1 = True\n",
        "type(number1)"
      ],
      "execution_count": 3,
      "outputs": [
        {
          "output_type": "execute_result",
          "data": {
            "text/plain": [
              "bool"
            ]
          },
          "metadata": {},
          "execution_count": 3
        }
      ]
    },
    {
      "cell_type": "code",
      "metadata": {
        "colab": {
          "base_uri": "https://localhost:8080/"
        },
        "id": "txUi__6jrjso",
        "outputId": "3bb9c1e4-1eff-4d6a-d41c-549af3efaecb"
      },
      "source": [
        "product=57.8\n",
        "type(product)"
      ],
      "execution_count": 4,
      "outputs": [
        {
          "output_type": "execute_result",
          "data": {
            "text/plain": [
              "float"
            ]
          },
          "metadata": {},
          "execution_count": 4
        }
      ]
    },
    {
      "cell_type": "markdown",
      "metadata": {
        "id": "dZRh2Flluakw"
      },
      "source": [
        "String"
      ]
    },
    {
      "cell_type": "code",
      "metadata": {
        "colab": {
          "base_uri": "https://localhost:8080/"
        },
        "id": "Jj9qOXbUrj5D",
        "outputId": "3e4bad70-77ef-4415-df3c-fb14eae55bd5"
      },
      "source": [
        "price=\"The books are expensive\"\n",
        "print(price)"
      ],
      "execution_count": 5,
      "outputs": [
        {
          "output_type": "stream",
          "text": [
            "The books are expensive\n"
          ],
          "name": "stdout"
        }
      ]
    },
    {
      "cell_type": "code",
      "metadata": {
        "colab": {
          "base_uri": "https://localhost:8080/"
        },
        "id": "Ik_yOMp9tAwP",
        "outputId": "f03a9df0-84a9-41ed-e138-29a984c9f0df"
      },
      "source": [
        "int='45'\n",
        "type(int)"
      ],
      "execution_count": 6,
      "outputs": [
        {
          "output_type": "execute_result",
          "data": {
            "text/plain": [
              "str"
            ]
          },
          "metadata": {},
          "execution_count": 6
        }
      ]
    },
    {
      "cell_type": "code",
      "metadata": {
        "colab": {
          "base_uri": "https://localhost:8080/"
        },
        "id": "4CPrKKzWtA7R",
        "outputId": "448bb2aa-0373-4ae8-b457-a76d06d3dae8"
      },
      "source": [
        "print(len(price))\n",
        "print(price[0:])\n",
        "print(price[:3])\n",
        "print(price[:])"
      ],
      "execution_count": 8,
      "outputs": [
        {
          "output_type": "stream",
          "text": [
            "23\n",
            "The books are expensive\n",
            "The\n",
            "The books are expensive\n"
          ],
          "name": "stdout"
        }
      ]
    },
    {
      "cell_type": "code",
      "metadata": {
        "colab": {
          "base_uri": "https://localhost:8080/"
        },
        "id": "_Rq_QVlbtBGr",
        "outputId": "f95e46b7-8f86-44e1-909a-843f75f4facb"
      },
      "source": [
        "print(price[4:0:-1])"
      ],
      "execution_count": 9,
      "outputs": [
        {
          "output_type": "stream",
          "text": [
            "b eh\n"
          ],
          "name": "stdout"
        }
      ]
    },
    {
      "cell_type": "code",
      "metadata": {
        "colab": {
          "base_uri": "https://localhost:8080/"
        },
        "id": "9y9yUK-BtBQJ",
        "outputId": "347629a7-70b0-41dc-8607-2af90b8a3c28"
      },
      "source": [
        "quote=\"Don\\'t worry be \\\" happy\"\n",
        "print(quote)"
      ],
      "execution_count": 11,
      "outputs": [
        {
          "output_type": "stream",
          "text": [
            "Don't worry be \" happy\n"
          ],
          "name": "stdout"
        }
      ]
    },
    {
      "cell_type": "code",
      "metadata": {
        "colab": {
          "base_uri": "https://localhost:8080/"
        },
        "id": "-U1zFT8Bw_PO",
        "outputId": "170ee87c-8bd2-48ff-9b65-e1e5e1283616"
      },
      "source": [
        "price=\"The\\' books are\\\" expensive\"\n",
        "print(price)"
      ],
      "execution_count": 14,
      "outputs": [
        {
          "output_type": "stream",
          "text": [
            "The' books are\" expensive\n"
          ],
          "name": "stdout"
        }
      ]
    },
    {
      "cell_type": "markdown",
      "metadata": {
        "id": "NpS9XYOSyphI"
      },
      "source": [
        "Formated String\n"
      ]
    },
    {
      "cell_type": "code",
      "metadata": {
        "colab": {
          "base_uri": "https://localhost:8080/"
        },
        "id": "54PUnxEwykQU",
        "outputId": "1321e70c-66a3-4a67-8481-face1778a72a"
      },
      "source": [
        "course=\"python\"\n",
        "message=\"hello world\"\n",
        "about=course + \" \" +message\n",
        "print(about)\n"
      ],
      "execution_count": 16,
      "outputs": [
        {
          "output_type": "stream",
          "text": [
            "python hello world\n"
          ],
          "name": "stdout"
        }
      ]
    },
    {
      "cell_type": "code",
      "metadata": {
        "colab": {
          "base_uri": "https://localhost:8080/"
        },
        "id": "dIaLie0Dykpu",
        "outputId": "c53660a7-349b-4ce8-8042-a14e27aaa627"
      },
      "source": [
        "about=f\"{len(course)} {len(message)}\"\n",
        "print(about)\n"
      ],
      "execution_count": 22,
      "outputs": [
        {
          "output_type": "stream",
          "text": [
            "6 11\n"
          ],
          "name": "stdout"
        }
      ]
    },
    {
      "cell_type": "code",
      "metadata": {
        "colab": {
          "base_uri": "https://localhost:8080/"
        },
        "id": "FilMNKcm0u7_",
        "outputId": "b8b191ef-152b-465e-9d98-a17648c2c1f8"
      },
      "source": [
        "course_2=\"python for data science\"\n",
        "print(course_2.find(\"thon\"))"
      ],
      "execution_count": 23,
      "outputs": [
        {
          "output_type": "stream",
          "text": [
            "2\n"
          ],
          "name": "stdout"
        }
      ]
    },
    {
      "cell_type": "code",
      "metadata": {
        "colab": {
          "base_uri": "https://localhost:8080/"
        },
        "id": "ANgptv630vLx",
        "outputId": "1845ae93-906a-4955-bcc2-f21d896acb36"
      },
      "source": [
        "print(course_2.replace(\"data science\" ,\"machine learning\"))"
      ],
      "execution_count": 25,
      "outputs": [
        {
          "output_type": "stream",
          "text": [
            "python for machine learning\n"
          ],
          "name": "stdout"
        }
      ]
    },
    {
      "cell_type": "code",
      "metadata": {
        "colab": {
          "base_uri": "https://localhost:8080/"
        },
        "id": "D5h3N2Pa0vXt",
        "outputId": "aff09a49-4ecb-45dc-ab87-9218dd70b698"
      },
      "source": [
        "import math  \n",
        "\n",
        "print(math.ceil(5.6))"
      ],
      "execution_count": 29,
      "outputs": [
        {
          "output_type": "stream",
          "text": [
            "6\n"
          ],
          "name": "stdout"
        }
      ]
    },
    {
      "cell_type": "code",
      "metadata": {
        "colab": {
          "base_uri": "https://localhost:8080/"
        },
        "id": "bN4FFVNr27K2",
        "outputId": "dbe71cda-8961-4a65-e258-5828f7b546a9"
      },
      "source": [
        "print(math.factorial(34))\n"
      ],
      "execution_count": 28,
      "outputs": [
        {
          "output_type": "stream",
          "text": [
            "295232799039604140847618609643520000000\n"
          ],
          "name": "stdout"
        }
      ]
    },
    {
      "cell_type": "code",
      "metadata": {
        "colab": {
          "base_uri": "https://localhost:8080/"
        },
        "id": "P-KrSMRC27Wf",
        "outputId": "d40cde2e-3a34-4b06-aa50-f54791cbbf40"
      },
      "source": [
        "print(round(5.5))\n",
        "print(abs(-2.9)) "
      ],
      "execution_count": 30,
      "outputs": [
        {
          "output_type": "stream",
          "text": [
            "6\n",
            "2.9\n"
          ],
          "name": "stdout"
        }
      ]
    },
    {
      "cell_type": "code",
      "metadata": {
        "colab": {
          "base_uri": "https://localhost:8080/",
          "height": 212
        },
        "id": "Uc-aeiDT3Nym",
        "outputId": "c4c7cedc-3dac-4bdb-b20b-0bf3d8522841"
      },
      "source": [
        "x = input(\"x: \")\n",
        "y = x + 1\n",
        "print(y)"
      ],
      "execution_count": 31,
      "outputs": [
        {
          "output_type": "stream",
          "text": [
            "x: 3\n"
          ],
          "name": "stdout"
        },
        {
          "output_type": "error",
          "ename": "TypeError",
          "evalue": "ignored",
          "traceback": [
            "\u001b[0;31m---------------------------------------------------------------------------\u001b[0m",
            "\u001b[0;31mTypeError\u001b[0m                                 Traceback (most recent call last)",
            "\u001b[0;32m<ipython-input-31-0298cb8c8366>\u001b[0m in \u001b[0;36m<module>\u001b[0;34m()\u001b[0m\n\u001b[1;32m      1\u001b[0m \u001b[0mx\u001b[0m \u001b[0;34m=\u001b[0m \u001b[0minput\u001b[0m\u001b[0;34m(\u001b[0m\u001b[0;34m\"x: \"\u001b[0m\u001b[0;34m)\u001b[0m\u001b[0;34m\u001b[0m\u001b[0;34m\u001b[0m\u001b[0m\n\u001b[0;32m----> 2\u001b[0;31m \u001b[0my\u001b[0m \u001b[0;34m=\u001b[0m \u001b[0mx\u001b[0m \u001b[0;34m+\u001b[0m \u001b[0;36m1\u001b[0m\u001b[0;34m\u001b[0m\u001b[0;34m\u001b[0m\u001b[0m\n\u001b[0m\u001b[1;32m      3\u001b[0m \u001b[0mprint\u001b[0m\u001b[0;34m(\u001b[0m\u001b[0my\u001b[0m\u001b[0;34m)\u001b[0m\u001b[0;34m\u001b[0m\u001b[0;34m\u001b[0m\u001b[0m\n",
            "\u001b[0;31mTypeError\u001b[0m: can only concatenate str (not \"int\") to str"
          ]
        }
      ]
    },
    {
      "cell_type": "code",
      "metadata": {
        "id": "W9AneVFj3OHr"
      },
      "source": [
        ""
      ],
      "execution_count": null,
      "outputs": []
    }
  ]
}