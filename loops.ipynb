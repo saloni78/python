{
  "nbformat": 4,
  "nbformat_minor": 0,
  "metadata": {
    "colab": {
      "name": "loops.ipynb",
      "provenance": [],
      "authorship_tag": "ABX9TyN6CN6h0q5ywrGoIQnPIgHc",
      "include_colab_link": true
    },
    "kernelspec": {
      "name": "python3",
      "display_name": "Python 3"
    },
    "language_info": {
      "name": "python"
    }
  },
  "cells": [
    {
      "cell_type": "markdown",
      "metadata": {
        "id": "view-in-github",
        "colab_type": "text"
      },
      "source": [
        "<a href=\"https://colab.research.google.com/github/saloni78/python/blob/main/loops.ipynb\" target=\"_parent\"><img src=\"https://colab.research.google.com/assets/colab-badge.svg\" alt=\"Open In Colab\"/></a>"
      ]
    },
    {
      "cell_type": "markdown",
      "metadata": {
        "id": "3IpBaadTcdq4"
      },
      "source": [
        "### **For loop**"
      ]
    },
    {
      "cell_type": "code",
      "metadata": {
        "colab": {
          "base_uri": "https://localhost:8080/"
        },
        "id": "wuzEkGetaQkO",
        "outputId": "06958aca-bbec-45f2-b680-5080815cbf1b"
      },
      "source": [
        "prices=[2,2.50,3.50,4]\n",
        "for price in prices:\n",
        "  print('price is',price)"
      ],
      "execution_count": null,
      "outputs": [
        {
          "output_type": "stream",
          "text": [
            "price is 2\n",
            "price is 2.5\n",
            "price is 3.5\n",
            "price is 4\n"
          ],
          "name": "stdout"
        }
      ]
    },
    {
      "cell_type": "code",
      "metadata": {
        "colab": {
          "base_uri": "https://localhost:8080/"
        },
        "id": "m3t_soaavBJs",
        "outputId": "4cea4d23-a333-48bc-847a-1c1cdebd0404"
      },
      "source": [
        "name='hello world'\n",
        "for i in name:\n",
        "  print(i)"
      ],
      "execution_count": 1,
      "outputs": [
        {
          "output_type": "stream",
          "name": "stdout",
          "text": [
            "h\n",
            "e\n",
            "l\n",
            "l\n",
            "o\n",
            " \n",
            "w\n",
            "o\n",
            "r\n",
            "l\n",
            "d\n"
          ]
        }
      ]
    },
    {
      "cell_type": "code",
      "metadata": {
        "colab": {
          "base_uri": "https://localhost:8080/"
        },
        "id": "O5zNpsNvdH7u",
        "outputId": "5fa8ecd5-eaf8-4809-e08c-89573665348f"
      },
      "source": [
        "total=0\n",
        "prices=[2.50,33,567,4.67]\n",
        "for price in prices:\n",
        "  print('price is',price)\n",
        "  total=total+price\n",
        "  print('total is',total)\n",
        "average=total/len(prices)\n",
        "print('avg is',average)\n"
      ],
      "execution_count": null,
      "outputs": [
        {
          "output_type": "stream",
          "text": [
            "price is 2.5\n",
            "total is 2.5\n",
            "price is 33\n",
            "total is 35.5\n",
            "price is 567\n",
            "total is 602.5\n",
            "price is 4.67\n",
            "total is 607.17\n",
            "avg is 151.7925\n"
          ],
          "name": "stdout"
        }
      ]
    },
    {
      "cell_type": "code",
      "metadata": {
        "colab": {
          "base_uri": "https://localhost:8080/"
        },
        "id": "lVdww8PIdIIE",
        "outputId": "1f57d6b1-60eb-495f-eaa9-287cc07d07cb"
      },
      "source": [
        "digits = [0, 1, 5]\n",
        "\n",
        "for i in digits:\n",
        "    print(i)\n",
        "else:\n",
        "    print(\"No items left.\")"
      ],
      "execution_count": null,
      "outputs": [
        {
          "output_type": "stream",
          "text": [
            "0\n",
            "1\n",
            "5\n",
            "No items left.\n"
          ],
          "name": "stdout"
        }
      ]
    },
    {
      "cell_type": "code",
      "metadata": {
        "colab": {
          "base_uri": "https://localhost:8080/"
        },
        "id": "0Ysf8ezcwLtI",
        "outputId": "86a6d194-cd89-4a1f-d0b6-0cba78b99bc3"
      },
      "source": [
        "for x in range(8):\n",
        "    print(x*x)"
      ],
      "execution_count": 2,
      "outputs": [
        {
          "output_type": "stream",
          "name": "stdout",
          "text": [
            "0\n",
            "1\n",
            "4\n",
            "9\n",
            "16\n",
            "25\n",
            "36\n",
            "49\n"
          ]
        }
      ]
    },
    {
      "cell_type": "code",
      "metadata": {
        "colab": {
          "base_uri": "https://localhost:8080/"
        },
        "id": "-UJmDVhMezQ5",
        "outputId": "7ce2e477-e3a9-415c-9d3a-76330b613ba1"
      },
      "source": [
        "student_name = 'Juli'\n",
        "\n",
        "marks = {'asish' : 80, 'Juli' : 55, 'ram' : 77}\n",
        "\n",
        "for student in marks:\n",
        "    if student == student_name:\n",
        "        print(marks[student])\n",
        "      "
      ],
      "execution_count": null,
      "outputs": [
        {
          "output_type": "stream",
          "text": [
            "55\n"
          ],
          "name": "stdout"
        }
      ]
    },
    {
      "cell_type": "code",
      "metadata": {
        "colab": {
          "base_uri": "https://localhost:8080/"
        },
        "id": "tFgMm6NyfoZZ",
        "outputId": "7a38cf86-2f55-4d6a-cf07-a1f246975ca1"
      },
      "source": [
        "student_name = 'Suraj'\n",
        "\n",
        "marks = {'asish' : 80, 'Juli' : 55, 'ram' : 77}\n",
        "\n",
        "for student in marks:\n",
        "    if student == student_name:\n",
        "        print(marks[student])\n",
        "        break\n",
        "else:\n",
        "    print('no record found.')"
      ],
      "execution_count": null,
      "outputs": [
        {
          "output_type": "stream",
          "text": [
            "no record found.\n"
          ],
          "name": "stdout"
        }
      ]
    },
    {
      "cell_type": "code",
      "metadata": {
        "colab": {
          "base_uri": "https://localhost:8080/"
        },
        "id": "zLcrRcUQf5b6",
        "outputId": "4e3be65c-f752-4279-a7ab-05b205e24e26"
      },
      "source": [
        "print(range(10))\n",
        "\n",
        "print(list(range(10)))\n",
        "\n",
        "print(list(range(2, 8)))\n",
        "\n",
        "print(list(range(2, 20, 3)))"
      ],
      "execution_count": null,
      "outputs": [
        {
          "output_type": "stream",
          "text": [
            "range(0, 10)\n",
            "[0, 1, 2, 3, 4, 5, 6, 7, 8, 9]\n",
            "[2, 3, 4, 5, 6, 7]\n",
            "[2, 5, 8, 11, 14, 17]\n"
          ],
          "name": "stdout"
        }
      ]
    },
    {
      "cell_type": "code",
      "metadata": {
        "colab": {
          "base_uri": "https://localhost:8080/"
        },
        "id": "6m40jTvUwwNx",
        "outputId": "01feb64d-29fd-4059-b5d2-c7003613c954"
      },
      "source": [
        "sports = {\"A\": \"Cricket\", \"B\": \"Football\", \"C\": \"Hockey\", \"D\": \"Badminton\"}\n",
        "\n",
        "for x in sports:\n",
        "    print(x, sports[x])"
      ],
      "execution_count": 3,
      "outputs": [
        {
          "output_type": "stream",
          "name": "stdout",
          "text": [
            "A Cricket\n",
            "B Football\n",
            "C Hockey\n",
            "D Badminton\n"
          ]
        }
      ]
    },
    {
      "cell_type": "code",
      "metadata": {
        "colab": {
          "base_uri": "https://localhost:8080/"
        },
        "id": "Mvnb1yC8f5mt",
        "outputId": "0890abee-25d0-4449-e0c4-9ce702db0672"
      },
      "source": [
        "n= int(input('Enter the Number'))\n",
        "for num in range(1,n+1,1):\n",
        "    print(num)"
      ],
      "execution_count": null,
      "outputs": [
        {
          "output_type": "stream",
          "text": [
            "Enter the Number8\n",
            "1\n",
            "2\n",
            "3\n",
            "4\n",
            "5\n",
            "6\n",
            "7\n",
            "8\n"
          ],
          "name": "stdout"
        }
      ]
    },
    {
      "cell_type": "code",
      "metadata": {
        "colab": {
          "base_uri": "https://localhost:8080/"
        },
        "id": "gnkPaPGvgiIl",
        "outputId": "089b4999-9514-4f36-ea32-da5c3d0bf15c"
      },
      "source": [
        "for num in [1,2,3,4,5]:\n",
        "\tprint(num**2)"
      ],
      "execution_count": null,
      "outputs": [
        {
          "output_type": "stream",
          "text": [
            "1\n",
            "4\n",
            "9\n",
            "16\n",
            "25\n"
          ],
          "name": "stdout"
        }
      ]
    },
    {
      "cell_type": "code",
      "metadata": {
        "colab": {
          "base_uri": "https://localhost:8080/"
        },
        "id": "AtypymSrgjEX",
        "outputId": "123d9a8c-d9b8-4359-e01b-de8ff68aaf08"
      },
      "source": [
        "for num in [1,2,3,4,5]:\n",
        "\tprint(num*2)"
      ],
      "execution_count": null,
      "outputs": [
        {
          "output_type": "stream",
          "text": [
            "2\n",
            "4\n",
            "6\n",
            "8\n",
            "10\n"
          ],
          "name": "stdout"
        }
      ]
    },
    {
      "cell_type": "code",
      "metadata": {
        "colab": {
          "base_uri": "https://localhost:8080/"
        },
        "id": "Ea0TRNCGxEEQ",
        "outputId": "c640207c-a96e-4400-fd7b-5b43ab062cec"
      },
      "source": [
        "total = 0\n",
        "values = [1, 2, 4, 8, 16]\n",
        "\n",
        "for sum in values:\n",
        "    total = total + sum\n",
        "    # total += sum\n",
        "    print(total)"
      ],
      "execution_count": 5,
      "outputs": [
        {
          "output_type": "stream",
          "name": "stdout",
          "text": [
            "1\n",
            "3\n",
            "7\n",
            "15\n",
            "31\n"
          ]
        }
      ]
    },
    {
      "cell_type": "code",
      "metadata": {
        "colab": {
          "base_uri": "https://localhost:8080/"
        },
        "id": "lj5kG0HQgjK-",
        "outputId": "e9db4bae-2671-43d2-a2c9-f80618fda6f5"
      },
      "source": [
        "import random\n",
        "r1 = random.random() # Gives us a random number from [0.0, 1.0\n",
        "print(r1)\n",
        "r2 = random.choice([1,2,3,4,5]) # Gives us a random choice from a list\n",
        "print(r2)\n",
        "r3 = random.randint(1, 1000) # Gives us a random number in this range\n",
        "print(r3)"
      ],
      "execution_count": null,
      "outputs": [
        {
          "output_type": "stream",
          "text": [
            "0.30151062432397324\n",
            "4\n",
            "868\n"
          ],
          "name": "stdout"
        }
      ]
    },
    {
      "cell_type": "code",
      "metadata": {
        "colab": {
          "base_uri": "https://localhost:8080/"
        },
        "id": "TdZWgZ-MgjR7",
        "outputId": "b6be1747-8621-4f2e-f27e-3f4caa9b2bbf"
      },
      "source": [
        "import random\n",
        "r1 = random.random() # Gives us a random number from [0.0, 1.0\n",
        "print(r1)\n",
        "r2 = random.choice([1,2,3,4,5]) # Gives us a random choice from a list\n",
        "print(r2)\n",
        "r3 = random.randint(1, 1000) # Gives us a random number in this range\n",
        "print(r3)"
      ],
      "execution_count": null,
      "outputs": [
        {
          "output_type": "stream",
          "text": [
            "0.8381490863674533\n",
            "5\n",
            "334\n"
          ],
          "name": "stdout"
        }
      ]
    },
    {
      "cell_type": "markdown",
      "metadata": {
        "id": "TIz7iHb4hH-Y"
      },
      "source": [
        "### **while loop**"
      ]
    },
    {
      "cell_type": "code",
      "metadata": {
        "colab": {
          "base_uri": "https://localhost:8080/"
        },
        "id": "-RLU-Fv4hQJf",
        "outputId": "62e713da-5f37-45ae-c64b-07262a40fa8a"
      },
      "source": [
        "n=5\n",
        "num=int(input(\"Enter the number\" ))\n",
        "while n<=num:\n",
        "  print(n)\n",
        "  n+=1\n"
      ],
      "execution_count": null,
      "outputs": [
        {
          "output_type": "stream",
          "text": [
            "Enter the number7\n",
            "5\n",
            "6\n",
            "7\n"
          ],
          "name": "stdout"
        }
      ]
    },
    {
      "cell_type": "code",
      "metadata": {
        "colab": {
          "base_uri": "https://localhost:8080/"
        },
        "id": "MN4QBhTExuju",
        "outputId": "81ff93e6-b2ea-405a-b694-77404248fd5f"
      },
      "source": [
        "value = 4.2\n",
        "while value < 8:\n",
        "    value = value * 2\n",
        "    print(value)\n",
        "\n",
        "print(\"final value:\", value)"
      ],
      "execution_count": 6,
      "outputs": [
        {
          "output_type": "stream",
          "name": "stdout",
          "text": [
            "8.4\n",
            "final value: 8.4\n"
          ]
        }
      ]
    },
    {
      "cell_type": "code",
      "metadata": {
        "colab": {
          "base_uri": "https://localhost:8080/"
        },
        "id": "tXy6RIFGzRR3",
        "outputId": "5e210a81-5fcd-402f-ac91-16110e9c846f"
      },
      "source": [
        "i = 1\n",
        "while i < 6:\n",
        "  print(i)\n",
        "  if i == 5:\n",
        "    break\n",
        "  i += 1"
      ],
      "execution_count": 8,
      "outputs": [
        {
          "output_type": "stream",
          "name": "stdout",
          "text": [
            "1\n",
            "2\n",
            "3\n",
            "4\n",
            "5\n"
          ]
        }
      ]
    },
    {
      "cell_type": "code",
      "metadata": {
        "colab": {
          "base_uri": "https://localhost:8080/"
        },
        "id": "Dy5UMKQPzRey",
        "outputId": "b157f8ee-132e-47f6-aca2-fa872b8bd50b"
      },
      "source": [
        "#Check how many times a given number can be divided by 3 before it is less than or equal to 10.\n",
        "count = 0\n",
        "number = 580\n",
        "while number > 10:\n",
        "    # divide number by 3\n",
        "    number = number / 3\n",
        "    # increase count\n",
        "    count = count + 1\n",
        "print('Total iteration required', count)"
      ],
      "execution_count": 11,
      "outputs": [
        {
          "output_type": "stream",
          "name": "stdout",
          "text": [
            "Total iteration required 4\n"
          ]
        }
      ]
    }
  ]
}