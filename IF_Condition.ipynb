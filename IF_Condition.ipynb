{
  "nbformat": 4,
  "nbformat_minor": 0,
  "metadata": {
    "colab": {
      "name": "IF_Condition.ipynb",
      "provenance": [],
      "collapsed_sections": [],
      "authorship_tag": "ABX9TyOP6Ed2/QMhtaHvkSncejQ1",
      "include_colab_link": true
    },
    "kernelspec": {
      "name": "python3",
      "display_name": "Python 3"
    },
    "language_info": {
      "name": "python"
    }
  },
  "cells": [
    {
      "cell_type": "markdown",
      "metadata": {
        "id": "view-in-github",
        "colab_type": "text"
      },
      "source": [
        "<a href=\"https://colab.research.google.com/github/saloni78/python/blob/main/IF_Condition.ipynb\" target=\"_parent\"><img src=\"https://colab.research.google.com/assets/colab-badge.svg\" alt=\"Open In Colab\"/></a>"
      ]
    },
    {
      "cell_type": "code",
      "metadata": {
        "id": "I8KkRa6v9bPV",
        "colab": {
          "base_uri": "https://localhost:8080/"
        },
        "outputId": "fc22fc70-9e62-46d3-e12c-2cb1f8ec653c"
      },
      "source": [
        "x=int(input(\"x: \"))\n",
        "y=int(input(\"y: \"))\n",
        "if x>y:\n",
        "  print('x is greater than y')\n",
        "elif x<y:\n",
        "  print('x is less than y')\n",
        "else:\n",
        "  print('x and y are equal')"
      ],
      "execution_count": 2,
      "outputs": [
        {
          "output_type": "stream",
          "text": [
            "x: 34\n",
            "y: 54\n",
            "x is less than y\n"
          ],
          "name": "stdout"
        }
      ]
    },
    {
      "cell_type": "code",
      "metadata": {
        "colab": {
          "base_uri": "https://localhost:8080/"
        },
        "id": "eXXBu9YEoEmP",
        "outputId": "a019b093-4794-4156-c367-25e7e56cec15"
      },
      "source": [
        "for i in [34,5,10,94,7,15]:\n",
        "  if i>20:\n",
        "    print('small no.',i)\n"
      ],
      "execution_count": 7,
      "outputs": [
        {
          "output_type": "stream",
          "text": [
            "small no. 34\n",
            "small no. 94\n"
          ],
          "name": "stdout"
        }
      ]
    },
    {
      "cell_type": "code",
      "metadata": {
        "colab": {
          "base_uri": "https://localhost:8080/"
        },
        "id": "yrRD8djSy6a1",
        "outputId": "98eb0ea5-c809-40cf-8d20-32dd2deac633"
      },
      "source": [
        "a = 150\n",
        "b = 33\n",
        "if b > a:\n",
        "  print(\"b is greater than a\")\n",
        "else:\n",
        "  print(\"b is not greater than a\")"
      ],
      "execution_count": 8,
      "outputs": [
        {
          "output_type": "stream",
          "text": [
            "b is not greater than a\n"
          ],
          "name": "stdout"
        }
      ]
    },
    {
      "cell_type": "code",
      "metadata": {
        "colab": {
          "base_uri": "https://localhost:8080/"
        },
        "id": "ooWNim0F18M7",
        "outputId": "4390baba-5ec6-4758-8052-0de449bb3075"
      },
      "source": [
        "if a > b: print(\"a is greater than b\")"
      ],
      "execution_count": 9,
      "outputs": [
        {
          "output_type": "stream",
          "text": [
            "a is greater than b\n"
          ],
          "name": "stdout"
        }
      ]
    },
    {
      "cell_type": "code",
      "metadata": {
        "colab": {
          "base_uri": "https://localhost:8080/"
        },
        "id": "zcFvVXLC18ZK",
        "outputId": "ab51c7a3-7922-4b70-e743-e97c4fda5cb4"
      },
      "source": [
        "a = 358\n",
        "b = 56\n",
        "c = 100\n",
        "if a > b or a > c:\n",
        "  print(\"At least one of the conditions is True\")"
      ],
      "execution_count": 10,
      "outputs": [
        {
          "output_type": "stream",
          "text": [
            "At least one of the conditions is True\n"
          ],
          "name": "stdout"
        }
      ]
    },
    {
      "cell_type": "code",
      "metadata": {
        "colab": {
          "base_uri": "https://localhost:8080/"
        },
        "id": "UQAACrxG2WVp",
        "outputId": "67eb6687-303b-4971-dd1f-392dd0cf00e0"
      },
      "source": [
        "a = 20\n",
        "b = 33\n",
        "c = 500\n",
        "if a > b or a > c:\n",
        "  print(\"At least one of the conditions is True\")\n",
        "else:\n",
        "  print(\"no condition is true\")"
      ],
      "execution_count": 13,
      "outputs": [
        {
          "output_type": "stream",
          "text": [
            "no condition is true\n"
          ],
          "name": "stdout"
        }
      ]
    },
    {
      "cell_type": "code",
      "metadata": {
        "colab": {
          "base_uri": "https://localhost:8080/"
        },
        "id": "gGAaSny72u9A",
        "outputId": "21acae0d-22fe-497c-8702-26098e3892be"
      },
      "source": [
        "num = 42\n",
        "if num % 2 == 0:\n",
        "    print(\"Even Number\")\n",
        "else:\n",
        "    print(\"Odd Number\")"
      ],
      "execution_count": 14,
      "outputs": [
        {
          "output_type": "stream",
          "text": [
            "Even Number\n"
          ],
          "name": "stdout"
        }
      ]
    },
    {
      "cell_type": "code",
      "metadata": {
        "colab": {
          "base_uri": "https://localhost:8080/"
        },
        "id": "ZvQu88_s2vDD",
        "outputId": "474f1c46-8ae8-4b0e-b60e-e0c3dbd06a87"
      },
      "source": [
        "n=int(input(\"enter any no. \"))\n",
        "if n%2==0:\n",
        "  print(\"even no.\")\n",
        "else:\n",
        "  print(\"odd no.\")"
      ],
      "execution_count": 15,
      "outputs": [
        {
          "output_type": "stream",
          "text": [
            "enter any no. 55\n",
            "odd no.\n"
          ],
          "name": "stdout"
        }
      ]
    },
    {
      "cell_type": "code",
      "metadata": {
        "colab": {
          "base_uri": "https://localhost:8080/"
        },
        "id": "aHuT3P0Z3g8L",
        "outputId": "f297b1d4-9129-406d-8336-bfa02cd8e374"
      },
      "source": [
        "smallest = None\n",
        "print('before')\n",
        "for i in[11,34,5,20,45,78]:\n",
        "  if smallest is None:\n",
        "    smallest=i\n",
        "  elif i<smallest:\n",
        "    smallest=i\n",
        "  print(smallest,i)\n",
        "print('after',smallest)"
      ],
      "execution_count": 22,
      "outputs": [
        {
          "output_type": "stream",
          "text": [
            "before\n",
            "11 11\n",
            "11 34\n",
            "5 5\n",
            "5 20\n",
            "5 45\n",
            "5 78\n",
            "after 5\n"
          ],
          "name": "stdout"
        }
      ]
    },
    {
      "cell_type": "code",
      "metadata": {
        "colab": {
          "base_uri": "https://localhost:8080/"
        },
        "id": "LL76Kfha3giG",
        "outputId": "03f28d79-615b-4151-b876-fe54929aabf1"
      },
      "source": [
        "smallest = None\n",
        "print('before')\n",
        "for i in[11,34,5,20,45,78]:\n",
        "  if smallest is None:\n",
        "    smallest=i\n",
        "  elif i>smallest:\n",
        "    smallest=i\n",
        "  else:\n",
        "    i<smallest\n",
        "  print(smallest,i)\n",
        "print('after',smallest)"
      ],
      "execution_count": 26,
      "outputs": [
        {
          "output_type": "stream",
          "text": [
            "before\n",
            "11 11\n",
            "34 34\n",
            "34 5\n",
            "34 20\n",
            "45 45\n",
            "78 78\n",
            "after 78\n"
          ],
          "name": "stdout"
        }
      ]
    },
    {
      "cell_type": "code",
      "metadata": {
        "colab": {
          "base_uri": "https://localhost:8080/"
        },
        "id": "aScCt9r86DEY",
        "outputId": "c7e83f78-34f9-4ca1-b6eb-543b5bdfe903"
      },
      "source": [
        "value = 50\n",
        "print(True) if value < 15 else print(False)"
      ],
      "execution_count": 28,
      "outputs": [
        {
          "output_type": "stream",
          "text": [
            "False\n"
          ],
          "name": "stdout"
        }
      ]
    },
    {
      "cell_type": "code",
      "metadata": {
        "colab": {
          "base_uri": "https://localhost:8080/"
        },
        "id": "HBQJ_ZOq6DQY",
        "outputId": "99693184-a38f-45f4-8427-83189b25e205"
      },
      "source": [
        "age = 20;\n",
        "if (age < 15):\n",
        "    print (\"age is smaller than 15\")\n",
        "else:\n",
        "    print (\"age is greater than 15\")\n",
        "print (\"I am not in any block \")"
      ],
      "execution_count": 30,
      "outputs": [
        {
          "output_type": "stream",
          "text": [
            "age is greater than 15\n",
            "I am not in any block \n"
          ],
          "name": "stdout"
        }
      ]
    },
    {
      "cell_type": "code",
      "metadata": {
        "colab": {
          "base_uri": "https://localhost:8080/"
        },
        "id": "eMQ8S0XM7tT4",
        "outputId": "2185d1d8-eccf-44ba-a8f8-f350b2f9c11a"
      },
      "source": [
        "price = 50\n",
        "quantity = 5\n",
        "if price*quantity < 500:\n",
        "    print(\"price*quantity is less than 500\")\n",
        "    print(\"price = \", price)\n",
        "    print(\"quantity = \", quantity)"
      ],
      "execution_count": 32,
      "outputs": [
        {
          "output_type": "stream",
          "text": [
            "price*quantity is less than 500\n",
            "price =  50\n",
            "quantity =  5\n"
          ],
          "name": "stdout"
        }
      ]
    },
    {
      "cell_type": "code",
      "metadata": {
        "colab": {
          "base_uri": "https://localhost:8080/"
        },
        "id": "2hZxTriw7thA",
        "outputId": "a57f676b-7afb-4ba2-acad-e7e75ec2c7b6"
      },
      "source": [
        "temperature = 27\n",
        "if temperature > 20:\n",
        "    print('its a rainy day')\n",
        "else:\n",
        "    print(\"its a cloudy day\")"
      ],
      "execution_count": 31,
      "outputs": [
        {
          "output_type": "stream",
          "text": [
            "its a rainy day\n"
          ],
          "name": "stdout"
        }
      ]
    },
    {
      "cell_type": "code",
      "metadata": {
        "colab": {
          "base_uri": "https://localhost:8080/"
        },
        "id": "p_FDEcMx9eP5",
        "outputId": "0232b388-de81-4fe5-eefa-ebe115d1036f"
      },
      "source": [
        "age = 22\n",
        "if age >= 18 and age < 65:\n",
        "    print(\"eligible\")"
      ],
      "execution_count": 33,
      "outputs": [
        {
          "output_type": "stream",
          "text": [
            "eligible\n"
          ],
          "name": "stdout"
        }
      ]
    },
    {
      "cell_type": "code",
      "metadata": {
        "id": "SQ3NEP8n9ed_"
      },
      "source": [
        ""
      ],
      "execution_count": null,
      "outputs": []
    }
  ]
}