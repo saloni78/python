{
  "nbformat": 4,
  "nbformat_minor": 0,
  "metadata": {
    "colab": {
      "name": "Assignment3.ipynb",
      "provenance": [],
      "authorship_tag": "ABX9TyMpHDr0TnQN2o+nOo+bK7zy",
      "include_colab_link": true
    },
    "kernelspec": {
      "name": "python3",
      "display_name": "Python 3"
    },
    "language_info": {
      "name": "python"
    }
  },
  "cells": [
    {
      "cell_type": "markdown",
      "metadata": {
        "id": "view-in-github",
        "colab_type": "text"
      },
      "source": [
        "<a href=\"https://colab.research.google.com/github/saloni78/python/blob/main/Assignment3.ipynb\" target=\"_parent\"><img src=\"https://colab.research.google.com/assets/colab-badge.svg\" alt=\"Open In Colab\"/></a>"
      ]
    },
    {
      "cell_type": "markdown",
      "metadata": {
        "id": "Hm3WOCPPVH90"
      },
      "source": [
        "### wap to print the nth largest element in a list"
      ]
    },
    {
      "cell_type": "code",
      "metadata": {
        "id": "R9iaAs66X3rl",
        "colab": {
          "base_uri": "https://localhost:8080/"
        },
        "outputId": "3c22c139-2e62-47ab-999b-547ca3bc3922"
      },
      "source": [
        "a=[]\n",
        "n=int(input(\"enter number of elements:\"))\n",
        "for i in range(1,n+1):\n",
        "  b=int(input(\"enter elements:\"))\n",
        "  a.append(b)\n",
        "a.sort()\n",
        "c=int(input(\"enter the nth largest number you want to print:\"))\n",
        "print(a[n-c])"
      ],
      "execution_count": null,
      "outputs": [
        {
          "output_type": "stream",
          "text": [
            "enter number of elements:4\n",
            "enter elements:56\n",
            "enter elements:10\n",
            "enter elements:20\n",
            "enter elements:34\n",
            "enter the nth largest number you want to print:2\n",
            "34\n"
          ],
          "name": "stdout"
        }
      ]
    },
    {
      "cell_type": "code",
      "metadata": {
        "id": "yfQWJUjRX375",
        "colab": {
          "base_uri": "https://localhost:8080/"
        },
        "outputId": "944db47f-a373-4973-d7bf-25cc1c192a35"
      },
      "source": [
        "a=[]\n",
        "n=int(input(\"enter number of elements:\"))\n",
        "for i in range(1,n+1):\n",
        "  b=int(input(\"enter elements:\"))\n",
        "  a.append(b)\n",
        "a.sort()\n",
        "print(\" largest number: \",a[n-1])\n",
        "\n"
      ],
      "execution_count": 1,
      "outputs": [
        {
          "output_type": "stream",
          "name": "stdout",
          "text": [
            "enter number of elements:4\n",
            "enter elements:65\n",
            "enter elements:122\n",
            "enter elements:654\n",
            "enter elements:3\n",
            " largest number:  654\n"
          ]
        }
      ]
    }
  ]
}