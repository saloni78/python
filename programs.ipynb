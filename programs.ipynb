{
 "cells": [
  {
   "cell_type": "code",
   "execution_count": 1,
   "id": "418b28d3",
   "metadata": {},
   "outputs": [
    {
     "name": "stdout",
     "output_type": "stream",
     "text": [
      "Enter a number: 213\n",
      "213 is not a prime number\n",
      "3 times 71 is 213\n"
     ]
    }
   ],
   "source": [
    "#check a no.is prime or not\n",
    "\n",
    "num = int(input(\"Enter a number: \"))  \n",
    "  \n",
    "if num > 1:  \n",
    "   for i in range(2,num):  \n",
    "       if (num % i) == 0:  \n",
    "           print(num,\"is not a prime number\")  \n",
    "           print(i,\"times\",num//i,\"is\",num)  \n",
    "           break  \n",
    "   else:  \n",
    "       print(num,\"is a prime number\")  \n",
    "         \n",
    "else:  \n",
    "   print(num,\"is not a prime number\")  "
   ]
  },
  {
   "cell_type": "code",
   "execution_count": 4,
   "id": "38a9c8fe",
   "metadata": {},
   "outputs": [
    {
     "name": "stdout",
     "output_type": "stream",
     "text": [
      "Enter temperature in Celsius: 37\n",
      "310.15\n"
     ]
    }
   ],
   "source": [
    "## convert temp.celsius to kelvin \n",
    "\n",
    "c = float(input(\"Enter temperature in Celsius: \"))\n",
    "\n",
    "k = c + 273.15\n",
    "\n",
    "print(k)"
   ]
  },
  {
   "cell_type": "code",
   "execution_count": 2,
   "id": "9dfec5bb",
   "metadata": {},
   "outputs": [
    {
     "name": "stdout",
     "output_type": "stream",
     "text": [
      "Enter temperature in Celsius: 98\n",
      "(98.0, 208.4)\n"
     ]
    }
   ],
   "source": [
    "## convert celsius to fahrenheit\n",
    "\n",
    "celsius = float(input('Enter temperature in Celsius: '))  \n",
    "  \n",
    "# calculate temperature in Fahrenheit  \n",
    "fahrenheit = (celsius * 1.8) + 32  \n",
    "print((celsius,fahrenheit))  "
   ]
  },
  {
   "cell_type": "code",
   "execution_count": null,
   "id": "2190473d",
   "metadata": {},
   "outputs": [],
   "source": []
  }
 ],
 "metadata": {
  "kernelspec": {
   "display_name": "Python 3",
   "language": "python",
   "name": "python3"
  },
  "language_info": {
   "codemirror_mode": {
    "name": "ipython",
    "version": 3
   },
   "file_extension": ".py",
   "mimetype": "text/x-python",
   "name": "python",
   "nbconvert_exporter": "python",
   "pygments_lexer": "ipython3",
   "version": "3.8.10"
  }
 },
 "nbformat": 4,
 "nbformat_minor": 5
}
