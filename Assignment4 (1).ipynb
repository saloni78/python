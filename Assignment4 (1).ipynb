{
 "cells": [
  {
   "cell_type": "code",
   "execution_count": 18,
   "id": "91e50749",
   "metadata": {},
   "outputs": [],
   "source": [
    "def write_sales_log(order,file):\n",
    "    total = 0\n",
    "    item_name= \"Name of the item\"\n",
    "    total_item = \"total number of items\"\n",
    "    cost = \"Price\"\n",
    "    total_sum = \"Total price\"\n",
    "    file.write(\" daily Market\\n\\n\")\n",
    "    file.write(f'{item_name:7} {total_item:^30} {cost:^10} {total_sum:>6}' + '\\n')\n",
    "    for item, price in order.items():\n",
    "        total_price = price[1]*price[0]\n",
    "        file.write(f'{item:7} {price[0]:^30} {price[1]:^10} {total_price:>6}' + '\\n')\n",
    "        total += total_price\n",
    "   \n",
    "    file.write('\\n'+'Total = '+ format(total, '.2f')+'\\n')\n",
    "    file\n",
    "    file.close()"
   ]
  },
  {
   "cell_type": "code",
   "execution_count": 19,
   "id": "79ff6bee",
   "metadata": {},
   "outputs": [],
   "source": [
    "bill={'coffee':[3,90],'tea':[5,30],'cake':[2,40]}\n",
    "file=open('dairy2.txt','w')\n",
    "write_sales_log(bill,file)"
   ]
  },
  {
   "cell_type": "code",
   "execution_count": 20,
   "id": "2cfceba6",
   "metadata": {},
   "outputs": [],
   "source": [
    "bill={'spices':[2,78.56],'milk':[2,50]}\n",
    "file=open('shop1.txt','w')\n",
    "write_sales_log(bill,file)"
   ]
  },
  {
   "cell_type": "code",
   "execution_count": null,
   "id": "706f0339",
   "metadata": {},
   "outputs": [],
   "source": []
  }
 ],
 "metadata": {
  "kernelspec": {
   "display_name": "Python 3",
   "language": "python",
   "name": "python3"
  },
  "language_info": {
   "codemirror_mode": {
    "name": "ipython",
    "version": 3
   },
   "file_extension": ".py",
   "mimetype": "text/x-python",
   "name": "python",
   "nbconvert_exporter": "python",
   "pygments_lexer": "ipython3",
   "version": "3.8.10"
  }
 },
 "nbformat": 4,
 "nbformat_minor": 5
}
