{
  "nbformat": 4,
  "nbformat_minor": 0,
  "metadata": {
    "colab": {
      "name": "List_Tuple_Dic.ipynb",
      "provenance": [],
      "authorship_tag": "ABX9TyM1S959Gp2rX1LOUKtzs0SS",
      "include_colab_link": true
    },
    "kernelspec": {
      "name": "python3",
      "display_name": "Python 3"
    },
    "language_info": {
      "name": "python"
    }
  },
  "cells": [
    {
      "cell_type": "markdown",
      "metadata": {
        "id": "view-in-github",
        "colab_type": "text"
      },
      "source": [
        "<a href=\"https://colab.research.google.com/github/saloni78/python/blob/main/List_Tuple_Dic.ipynb\" target=\"_parent\"><img src=\"https://colab.research.google.com/assets/colab-badge.svg\" alt=\"Open In Colab\"/></a>"
      ]
    },
    {
      "cell_type": "markdown",
      "metadata": {
        "id": "66eq8vEjB_O9"
      },
      "source": [
        "## **List**"
      ]
    },
    {
      "cell_type": "code",
      "metadata": {
        "colab": {
          "base_uri": "https://localhost:8080/"
        },
        "id": "2IMXBFmNA4c6",
        "outputId": "bde5106d-d4b4-4434-c8da-147f224f86ab"
      },
      "source": [
        "s=[2,34,91,42,10,4]\n",
        "s[1:3]"
      ],
      "execution_count": 4,
      "outputs": [
        {
          "output_type": "execute_result",
          "data": {
            "text/plain": [
              "[34, 91]"
            ]
          },
          "metadata": {
            "tags": []
          },
          "execution_count": 4
        }
      ]
    },
    {
      "cell_type": "code",
      "metadata": {
        "colab": {
          "base_uri": "https://localhost:8080/"
        },
        "id": "sURp4NuqIixz",
        "outputId": "ef0e1e4c-7be2-4f06-919b-863a4950fc7b"
      },
      "source": [
        "s[:4]"
      ],
      "execution_count": 5,
      "outputs": [
        {
          "output_type": "execute_result",
          "data": {
            "text/plain": [
              "[2, 34, 91, 42]"
            ]
          },
          "metadata": {
            "tags": []
          },
          "execution_count": 5
        }
      ]
    },
    {
      "cell_type": "code",
      "metadata": {
        "colab": {
          "base_uri": "https://localhost:8080/"
        },
        "id": "haRbnX4rInMa",
        "outputId": "f58cb825-4bfc-4ce3-b3f9-96ce3202fae7"
      },
      "source": [
        "s[:3]"
      ],
      "execution_count": 6,
      "outputs": [
        {
          "output_type": "execute_result",
          "data": {
            "text/plain": [
              "[2, 34, 91]"
            ]
          },
          "metadata": {
            "tags": []
          },
          "execution_count": 6
        }
      ]
    },
    {
      "cell_type": "code",
      "metadata": {
        "colab": {
          "base_uri": "https://localhost:8080/"
        },
        "id": "YMWJj-tEIpk9",
        "outputId": "be618c06-8d28-44af-d4d5-550b821ecb44"
      },
      "source": [
        "s[:]"
      ],
      "execution_count": 7,
      "outputs": [
        {
          "output_type": "execute_result",
          "data": {
            "text/plain": [
              "[2, 34, 91, 42, 10, 4]"
            ]
          },
          "metadata": {
            "tags": []
          },
          "execution_count": 7
        }
      ]
    },
    {
      "cell_type": "code",
      "metadata": {
        "colab": {
          "base_uri": "https://localhost:8080/"
        },
        "id": "KczyL4o-Ivf2",
        "outputId": "99cca11c-f303-4640-8fb9-6904c666870e"
      },
      "source": [
        "s[3:0:1]"
      ],
      "execution_count": 8,
      "outputs": [
        {
          "output_type": "execute_result",
          "data": {
            "text/plain": [
              "[]"
            ]
          },
          "metadata": {
            "tags": []
          },
          "execution_count": 8
        }
      ]
    },
    {
      "cell_type": "code",
      "metadata": {
        "colab": {
          "base_uri": "https://localhost:8080/"
        },
        "id": "dtBKydwGI0yX",
        "outputId": "8c36de3c-0a39-4494-e299-deb13d73a4b8"
      },
      "source": [
        "s[3:]"
      ],
      "execution_count": 10,
      "outputs": [
        {
          "output_type": "execute_result",
          "data": {
            "text/plain": [
              "[42, 10, 4]"
            ]
          },
          "metadata": {
            "tags": []
          },
          "execution_count": 10
        }
      ]
    },
    {
      "cell_type": "markdown",
      "metadata": {
        "id": "6zqP50QmJwnH"
      },
      "source": [
        " append() is used to add an element at the end of the list"
      ]
    },
    {
      "cell_type": "code",
      "metadata": {
        "colab": {
          "base_uri": "https://localhost:8080/"
        },
        "id": "L3hCVWsDJILG",
        "outputId": "993fb0e8-e13f-4b2d-b28d-203adab720e4"
      },
      "source": [
        "things=list()\n",
        "things.append('copy')\n",
        "things.append('pen')\n",
        "print(things)"
      ],
      "execution_count": 11,
      "outputs": [
        {
          "output_type": "stream",
          "text": [
            "['copy', 'pen']\n"
          ],
          "name": "stdout"
        }
      ]
    },
    {
      "cell_type": "code",
      "metadata": {
        "colab": {
          "base_uri": "https://localhost:8080/"
        },
        "id": "ZSOe6WeLJIXC",
        "outputId": "bb85eb9a-7399-4dd4-9a71-7dce72879e41"
      },
      "source": [
        "things.append('pencil')\n",
        "print(things)"
      ],
      "execution_count": 12,
      "outputs": [
        {
          "output_type": "stream",
          "text": [
            "['copy', 'pen', 'pencil']\n"
          ],
          "name": "stdout"
        }
      ]
    },
    {
      "cell_type": "markdown",
      "metadata": {
        "id": "pS0DQbA5KI9H"
      },
      "source": [
        "sort() is used to change the order of the elements in the list\n"
      ]
    },
    {
      "cell_type": "code",
      "metadata": {
        "colab": {
          "base_uri": "https://localhost:8080/"
        },
        "id": "6qs4JK7PJow-",
        "outputId": "12f55170-54d8-44b3-9733-8a09ec6c6cf7"
      },
      "source": [
        "stuff=['book','scale','chair']\n",
        "stuff.sort()\n",
        "print(stuff)"
      ],
      "execution_count": 13,
      "outputs": [
        {
          "output_type": "stream",
          "text": [
            "['book', 'chair', 'scale']\n"
          ],
          "name": "stdout"
        }
      ]
    },
    {
      "cell_type": "code",
      "metadata": {
        "colab": {
          "base_uri": "https://localhost:8080/"
        },
        "id": "MGrWVA61JpIT",
        "outputId": "1acea510-b6c0-4caf-b21e-12978fae9129"
      },
      "source": [
        "print(stuff[2])"
      ],
      "execution_count": 14,
      "outputs": [
        {
          "output_type": "stream",
          "text": [
            "scale\n"
          ],
          "name": "stdout"
        }
      ]
    },
    {
      "cell_type": "code",
      "metadata": {
        "colab": {
          "base_uri": "https://localhost:8080/"
        },
        "id": "mMqGHQWRJpfR",
        "outputId": "1e81f541-5ece-4402-ae43-d9f4239e24f3"
      },
      "source": [
        "nums=[67,9,77,1,23]\n",
        "print (len(nums))\n",
        "print (min(nums))\n",
        "print (sum(nums))\n",
        "print (sum(nums)/len(nums))"
      ],
      "execution_count": 15,
      "outputs": [
        {
          "output_type": "stream",
          "text": [
            "5\n",
            "1\n",
            "177\n",
            "35.4\n"
          ],
          "name": "stdout"
        }
      ]
    },
    {
      "cell_type": "code",
      "metadata": {
        "colab": {
          "base_uri": "https://localhost:8080/"
        },
        "id": "tH3PKPlzNGKc",
        "outputId": "e4a2e52c-a27e-42ab-c349-6711319a7fa0"
      },
      "source": [
        "total = 0\n",
        "count = 0\n",
        "while True :\n",
        "  inp = input('Enter a number:')\n",
        "  if inp == 'done': \n",
        "    break\n",
        "  value = float(inp)\n",
        "  total = total + value\n",
        "  count = count + 1"
      ],
      "execution_count": 17,
      "outputs": [
        {
          "output_type": "stream",
          "text": [
            "Enter a number:4\n",
            "Enter a number:5\n",
            "Enter a number:6\n",
            "Enter a number:7\n",
            "Enter a number:done\n"
          ],
          "name": "stdout"
        }
      ]
    },
    {
      "cell_type": "code",
      "metadata": {
        "colab": {
          "base_uri": "https://localhost:8080/"
        },
        "id": "2it2OFxHN1AP",
        "outputId": "13f24812-07bb-454e-fbb7-8cddd9cee922"
      },
      "source": [
        " average = total / count\n",
        "print('Average:, Count:', average, count)"
      ],
      "execution_count": 19,
      "outputs": [
        {
          "output_type": "stream",
          "text": [
            "Average:, Count: 5.5 4\n"
          ],
          "name": "stdout"
        }
      ]
    },
    {
      "cell_type": "code",
      "metadata": {
        "colab": {
          "base_uri": "https://localhost:8080/"
        },
        "id": "2hpYebKCOc8s",
        "outputId": "d2ee165f-4862-45dc-baff-7f0b6ad088d5"
      },
      "source": [
        "total = 0\n",
        "count = 0\n",
        "while True :\n",
        "  inp = input('Enter a number:')\n",
        "  if inp == 'done': \n",
        "    break\n",
        "  value = float(inp)\n",
        "  total = total + value\n",
        "  count = count + 1"
      ],
      "execution_count": 20,
      "outputs": [
        {
          "output_type": "stream",
          "text": [
            "Enter a number:8\n",
            "Enter a number:9\n",
            "Enter a number:10\n",
            "Enter a number:done\n"
          ],
          "name": "stdout"
        }
      ]
    },
    {
      "cell_type": "code",
      "metadata": {
        "colab": {
          "base_uri": "https://localhost:8080/"
        },
        "id": "HJo_zw9gOkkS",
        "outputId": "407653d6-3e7f-4553-d623-3a912fb7bb52"
      },
      "source": [
        "average = total / count\n",
        "print('Average:, Count:', average, count)"
      ],
      "execution_count": 21,
      "outputs": [
        {
          "output_type": "stream",
          "text": [
            "Average:, Count: 9.0 3\n"
          ],
          "name": "stdout"
        }
      ]
    },
    {
      "cell_type": "code",
      "metadata": {
        "id": "pY2qOgxkIlF8",
        "colab": {
          "base_uri": "https://localhost:8080/"
        },
        "outputId": "a24e734a-7f4e-4b15-d624-311c41f7b6de"
      },
      "source": [
        "line = 'From samantaray@gmail.com Sun Aug 15 08:39:23 2021'\n",
        "words = line.split()\n",
        "print(words)\n",
        "email = words[1]\n",
        "pieces = email.split('@')\n",
        "print(pieces[1])"
      ],
      "execution_count": null,
      "outputs": [
        {
          "output_type": "stream",
          "text": [
            "['From', 'samantaray@gmail.com', 'Sun', 'Aug', '15', '08:39:23', '2021']\n",
            "gmail.com\n"
          ],
          "name": "stdout"
        }
      ]
    },
    {
      "cell_type": "code",
      "metadata": {
        "colab": {
          "base_uri": "https://localhost:8080/"
        },
        "id": "EkCKUyiUeicZ",
        "outputId": "3a7a2472-8899-4acb-e8b1-f139b012aa3c"
      },
      "source": [
        "line = 'From samantaray@gmail.com Sun Aug 15 08:39:23 2021'\n",
        "words = line.split()\n",
        "print(words)\n",
        "email = words[1]\n",
        "pieces = email.split('@')\n",
        "print(pieces)\n",
        "print(pieces[1])"
      ],
      "execution_count": null,
      "outputs": [
        {
          "output_type": "stream",
          "text": [
            "['From', 'samantaray@gmail.com', 'Sun', 'Aug', '15', '08:39:23', '2021']\n",
            "['samantaray', 'gmail.com']\n",
            "gmail.com\n"
          ],
          "name": "stdout"
        }
      ]
    },
    {
      "cell_type": "markdown",
      "metadata": {
        "id": "e3x9nd7gPFCj"
      },
      "source": [
        "## **Tuple**"
      ]
    },
    {
      "cell_type": "code",
      "metadata": {
        "colab": {
          "base_uri": "https://localhost:8080/"
        },
        "id": "T3VRQYCkOpTA",
        "outputId": "fb6ca814-5c46-461d-a884-59ce3ff84894"
      },
      "source": [
        "t = (6,9,10)\n",
        "a= list(t)\n",
        "type(a)"
      ],
      "execution_count": 22,
      "outputs": [
        {
          "output_type": "execute_result",
          "data": {
            "text/plain": [
              "list"
            ]
          },
          "metadata": {
            "tags": []
          },
          "execution_count": 22
        }
      ]
    },
    {
      "cell_type": "code",
      "metadata": {
        "colab": {
          "base_uri": "https://localhost:8080/"
        },
        "id": "VzYQO1INQDWb",
        "outputId": "ec05cdff-e0f5-40a0-a9a7-196b246b1dab"
      },
      "source": [
        "a[0] = 'one'\n",
        "a"
      ],
      "execution_count": 23,
      "outputs": [
        {
          "output_type": "execute_result",
          "data": {
            "text/plain": [
              "['one', 9, 10]"
            ]
          },
          "metadata": {
            "tags": []
          },
          "execution_count": 23
        }
      ]
    },
    {
      "cell_type": "code",
      "metadata": {
        "colab": {
          "base_uri": "https://localhost:8080/"
        },
        "id": "rnF3sMFbQLTV",
        "outputId": "cbee1b2f-fc65-423c-b8ff-49b2d95fc451"
      },
      "source": [
        "t[0]"
      ],
      "execution_count": 24,
      "outputs": [
        {
          "output_type": "execute_result",
          "data": {
            "text/plain": [
              "6"
            ]
          },
          "metadata": {
            "tags": []
          },
          "execution_count": 24
        }
      ]
    },
    {
      "cell_type": "code",
      "metadata": {
        "colab": {
          "base_uri": "https://localhost:8080/",
          "height": 35
        },
        "id": "NvfM5elpQLe7",
        "outputId": "dda9ee87-5b2e-4b7a-f810-18a3dd4c24c8"
      },
      "source": [
        "a[0]"
      ],
      "execution_count": 25,
      "outputs": [
        {
          "output_type": "execute_result",
          "data": {
            "application/vnd.google.colaboratory.intrinsic+json": {
              "type": "string"
            },
            "text/plain": [
              "'one'"
            ]
          },
          "metadata": {
            "tags": []
          },
          "execution_count": 25
        }
      ]
    },
    {
      "cell_type": "markdown",
      "metadata": {
        "id": "lONqIPolQhvs"
      },
      "source": [
        "### Dictionary"
      ]
    },
    {
      "cell_type": "code",
      "metadata": {
        "colab": {
          "base_uri": "https://localhost:8080/"
        },
        "id": "5ltjweXWQLpv",
        "outputId": "13d1f399-483b-49ab-bec1-1d59727623b5"
      },
      "source": [
        "dict = {\"name\":\"subha\" , \"age\":18 , (\"hello\",\"world\"):1 , 'ans':\"yes\" , \"42\": [\"right\",\"left\",\"centre\"]}\n",
        "len(dict)"
      ],
      "execution_count": 28,
      "outputs": [
        {
          "output_type": "execute_result",
          "data": {
            "text/plain": [
              "5"
            ]
          },
          "metadata": {
            "tags": []
          },
          "execution_count": 28
        }
      ]
    },
    {
      "cell_type": "code",
      "metadata": {
        "colab": {
          "base_uri": "https://localhost:8080/"
        },
        "id": "BrFQxRvKRax1",
        "outputId": "73c3838d-7485-4b0b-f493-6ee3479ef578"
      },
      "source": [
        "print(dict['ans'])\n",
        "list1=dict.keys()\n",
        "print(list1)"
      ],
      "execution_count": 29,
      "outputs": [
        {
          "output_type": "stream",
          "text": [
            "yes\n",
            "dict_keys(['name', 'age', ('hello', 'world'), 'ans', '42'])\n"
          ],
          "name": "stdout"
        }
      ]
    },
    {
      "cell_type": "code",
      "metadata": {
        "colab": {
          "base_uri": "https://localhost:8080/"
        },
        "id": "ZXnKBlTpRa-x",
        "outputId": "673b797f-f2f1-45a9-dc84-7be11641b1d9"
      },
      "source": [
        "list2=dict.values()\n",
        "print(list2)\n",
        "print(dict[\"42\"])\n",
        "print(dict[\"age\"])"
      ],
      "execution_count": 30,
      "outputs": [
        {
          "output_type": "stream",
          "text": [
            "dict_values(['subha', 18, 1, 'yes', ['right', 'left', 'centre']])\n",
            "['right', 'left', 'centre']\n",
            "18\n"
          ],
          "name": "stdout"
        }
      ]
    },
    {
      "cell_type": "code",
      "metadata": {
        "colab": {
          "base_uri": "https://localhost:8080/"
        },
        "id": "oW8_ywzVR4M6",
        "outputId": "759ea3bb-f1a9-43c6-88d0-6c90f572790b"
      },
      "source": [
        "d = { \"foo\" : 1, \"bar\" : 2 }\n",
        "print(d[\"bar\"])   # 2\n",
        "some_dict = {}\n",
        "some_dict[\"foo\"] = \"yow!\"\n",
        "print(some_dict.keys()) # [\"foo\"]"
      ],
      "execution_count": 31,
      "outputs": [
        {
          "output_type": "stream",
          "text": [
            "2\n",
            "dict_keys(['foo'])\n"
          ],
          "name": "stdout"
        }
      ]
    },
    {
      "cell_type": "code",
      "metadata": {
        "id": "z_rAdAWmR4gc"
      },
      "source": [
        ""
      ],
      "execution_count": null,
      "outputs": []
    }
  ]
}