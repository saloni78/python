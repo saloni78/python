{
  "nbformat": 4,
  "nbformat_minor": 0,
  "metadata": {
    "colab": {
      "name": "Assignment2.ipynb",
      "provenance": [],
      "authorship_tag": "ABX9TyMU1cInXbz6cYTbAZ2japre",
      "include_colab_link": true
    },
    "kernelspec": {
      "name": "python3",
      "display_name": "Python 3"
    },
    "language_info": {
      "name": "python"
    }
  },
  "cells": [
    {
      "cell_type": "markdown",
      "metadata": {
        "id": "view-in-github",
        "colab_type": "text"
      },
      "source": [
        "<a href=\"https://colab.research.google.com/github/saloni78/python/blob/main/Assignment2.ipynb\" target=\"_parent\"><img src=\"https://colab.research.google.com/assets/colab-badge.svg\" alt=\"Open In Colab\"/></a>"
      ]
    },
    {
      "cell_type": "markdown",
      "metadata": {
        "id": "RMKZnyJgsZeK"
      },
      "source": [
        "### 1.WAP to print table of n, where n is entered by the user"
      ]
    },
    {
      "cell_type": "code",
      "metadata": {
        "colab": {
          "base_uri": "https://localhost:8080/"
        },
        "id": "hfL1HsbJsSKR",
        "outputId": "46ec26d9-3baa-4260-bdf5-addde4b8eba7"
      },
      "source": [
        "n=int(input(\"enter a no.to print the tables \"))\n",
        "for i in range(1,12):\n",
        "    print(n,\"*\",i,\"=\",n*i)"
      ],
      "execution_count": null,
      "outputs": [
        {
          "output_type": "stream",
          "text": [
            "enter a no.to print the tables 8\n",
            "8 * 1 = 8\n",
            "8 * 2 = 16\n",
            "8 * 3 = 24\n",
            "8 * 4 = 32\n",
            "8 * 5 = 40\n",
            "8 * 6 = 48\n",
            "8 * 7 = 56\n",
            "8 * 8 = 64\n",
            "8 * 9 = 72\n",
            "8 * 10 = 80\n",
            "8 * 11 = 88\n"
          ],
          "name": "stdout"
        }
      ]
    },
    {
      "cell_type": "markdown",
      "metadata": {
        "id": "O5Fy7nPmsknD"
      },
      "source": [
        "### 2.WAP to print sum of n natural no.s ,where n is entered by the user"
      ]
    },
    {
      "cell_type": "code",
      "metadata": {
        "colab": {
          "base_uri": "https://localhost:8080/"
        },
        "id": "ec6gyes7sqXZ",
        "outputId": "2532e6cc-fee0-44d2-94c8-325981aefb87"
      },
      "source": [
        "n = int(input(\"enter any no. \"))\n",
        "sum = 0\n",
        "for i in range(1, n + 1):\n",
        "  sum = sum + i\n",
        "print(\"sum of natural no.s from 1 to {} = {}\".format(n,sum)) \n"
      ],
      "execution_count": null,
      "outputs": [
        {
          "output_type": "stream",
          "text": [
            "enter any no. 15\n",
            "sum of natural no.s from 1 to 15 = 120\n"
          ],
          "name": "stdout"
        }
      ]
    },
    {
      "cell_type": "markdown",
      "metadata": {
        "id": "PEKE4YGjs5sS"
      },
      "source": [
        "### **3.WAP to print the factorial of the given number,where n is enterd by the user**"
      ]
    },
    {
      "cell_type": "code",
      "metadata": {
        "colab": {
          "base_uri": "https://localhost:8080/"
        },
        "id": "ItgGCqY1uiw5",
        "outputId": "af5ec28f-fa8f-42fe-9cac-67016f0a799e"
      },
      "source": [
        "n=int(input(\"enter any no. \"))\n",
        "factorial=1\n",
        "for i in range(1,n+1):\n",
        "  factorial=factorial*i\n",
        "print(\"factotial of \", n,\"=\",factorial)"
      ],
      "execution_count": null,
      "outputs": [
        {
          "output_type": "stream",
          "text": [
            "enter any no. 5\n",
            "factotial of  5 = 120\n"
          ],
          "name": "stdout"
        }
      ]
    },
    {
      "cell_type": "code",
      "metadata": {
        "colab": {
          "base_uri": "https://localhost:8080/"
        },
        "id": "zj0Xj7iGxzyA",
        "outputId": "d59a0fcb-eeeb-4d23-b13f-84fa601b6ee2"
      },
      "source": [
        "n=int(input(\"enter any no. \"))\n",
        "factorial=1\n",
        "if n<0:\n",
        "    print(\"factorial of negative no.s does not exist\")\n",
        "elif n==0:\n",
        "    print(\"factorial of 0 is 1\")\n",
        "else:\n",
        "  for i in range(1,n+1):\n",
        "    factorial=factorial*i\n",
        "print(\"factotial of \", n,\"=\",factorial)"
      ],
      "execution_count": null,
      "outputs": [
        {
          "output_type": "stream",
          "text": [
            "enter any no. 0\n",
            "factorial of 0 is 1\n",
            "factotial of  0 = 1\n"
          ],
          "name": "stdout"
        }
      ]
    },
    {
      "cell_type": "code",
      "metadata": {
        "id": "6sRrCEdcz7yP"
      },
      "source": [
        ""
      ],
      "execution_count": null,
      "outputs": []
    }
  ]
}