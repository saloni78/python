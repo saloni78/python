{
 "cells": [
  {
   "cell_type": "code",
   "execution_count": 8,
   "id": "b06f2d7f",
   "metadata": {},
   "outputs": [
    {
     "data": {
      "text/plain": [
       "'compute'"
      ]
     },
     "execution_count": 8,
     "metadata": {},
     "output_type": "execute_result"
    }
   ],
   "source": [
    "bb=\"computer\"\n",
    "bb[:-1]"
   ]
  },
  {
   "cell_type": "code",
   "execution_count": 7,
   "id": "aae4815a",
   "metadata": {},
   "outputs": [
    {
     "data": {
      "text/plain": [
       "'maps678foecils'"
      ]
     },
     "execution_count": 7,
     "metadata": {},
     "output_type": "execute_result"
    }
   ],
   "source": [
    "bb=\"sliceof876spam\"\n",
    "bb[::-1]\n"
   ]
  },
  {
   "cell_type": "code",
   "execution_count": 24,
   "id": "34f38f24",
   "metadata": {},
   "outputs": [
    {
     "data": {
      "text/plain": [
       "'m'"
      ]
     },
     "execution_count": 24,
     "metadata": {},
     "output_type": "execute_result"
    }
   ],
   "source": [
    "bb=\"computer\"\n",
    "bb[2]"
   ]
  },
  {
   "cell_type": "code",
   "execution_count": 25,
   "id": "da594433",
   "metadata": {},
   "outputs": [
    {
     "data": {
      "text/plain": [
       "5"
      ]
     },
     "execution_count": 25,
     "metadata": {},
     "output_type": "execute_result"
    }
   ],
   "source": [
    "a='apple'\n",
    "len(a)"
   ]
  },
  {
   "cell_type": "code",
   "execution_count": 27,
   "id": "2a31e543",
   "metadata": {},
   "outputs": [
    {
     "data": {
      "text/plain": [
       "'65748'"
      ]
     },
     "execution_count": 27,
     "metadata": {},
     "output_type": "execute_result"
    }
   ],
   "source": [
    "str(65748)"
   ]
  },
  {
   "cell_type": "code",
   "execution_count": 9,
   "id": "8104b1de",
   "metadata": {},
   "outputs": [
    {
     "name": "stdout",
     "output_type": "stream",
     "text": [
      "39\n"
     ]
    }
   ],
   "source": [
    "x='hello'\n",
    "x= x+ ' there ' + ' '\n",
    "print(len(x*3))"
   ]
  },
  {
   "cell_type": "code",
   "execution_count": 15,
   "id": "4baa9180",
   "metadata": {},
   "outputs": [
    {
     "name": "stdout",
     "output_type": "stream",
     "text": [
      "I am a string and me too!and me too!\n",
      "though i am much longer\n",
      "than the others:)\n"
     ]
    }
   ],
   "source": [
    "s= \"I am a string\"\n",
    "s= s + \" and me too!\" + 'and me too!\\nthough i am much longer\\nthan the others:)'\n",
    "print(s)"
   ]
  },
  {
   "cell_type": "code",
   "execution_count": 16,
   "id": "6708f35e",
   "metadata": {},
   "outputs": [
    {
     "data": {
      "text/plain": [
       "'i'"
      ]
     },
     "execution_count": 16,
     "metadata": {},
     "output_type": "execute_result"
    }
   ],
   "source": [
    "aa=\"sceience\"\n",
    "aa[3:4]"
   ]
  },
  {
   "cell_type": "code",
   "execution_count": 19,
   "id": "5a6520ce",
   "metadata": {},
   "outputs": [
    {
     "name": "stdout",
     "output_type": "stream",
     "text": [
      "HELLO WORLD\n"
     ]
    }
   ],
   "source": [
    "hw='hello world'\n",
    "hw= hw.upper()\n",
    "print(hw)"
   ]
  },
  {
   "cell_type": "code",
   "execution_count": 20,
   "id": "980d3d64",
   "metadata": {},
   "outputs": [
    {
     "name": "stdout",
     "output_type": "stream",
     "text": [
      "Practice\n"
     ]
    }
   ],
   "source": [
    "p='practice'\n",
    "p=p.title()\n",
    "print(p)"
   ]
  },
  {
   "cell_type": "code",
   "execution_count": 21,
   "id": "67ff220e",
   "metadata": {},
   "outputs": [
    {
     "name": "stdout",
     "output_type": "stream",
     "text": [
      "True\n"
     ]
    }
   ],
   "source": [
    "hw='hello world'\n",
    "hw= hw.islower()\n",
    "print(hw)\n"
   ]
  },
  {
   "cell_type": "code",
   "execution_count": 22,
   "id": "5d76ec40",
   "metadata": {},
   "outputs": [
    {
     "name": "stdout",
     "output_type": "stream",
     "text": [
      "False\n"
     ]
    }
   ],
   "source": [
    "hw='hello world'\n",
    "hw= hw.isdigit()\n",
    "print(hw)"
   ]
  },
  {
   "cell_type": "code",
   "execution_count": 29,
   "id": "9c355798",
   "metadata": {},
   "outputs": [
    {
     "name": "stdout",
     "output_type": "stream",
     "text": [
      "welocme tojupyter notebook\n"
     ]
    }
   ],
   "source": [
    "print(\"welocme to\"+\"jupyter notebook\")\n"
   ]
  },
  {
   "cell_type": "code",
   "execution_count": 30,
   "id": "dcedb95a",
   "metadata": {},
   "outputs": [
    {
     "name": "stdout",
     "output_type": "stream",
     "text": [
      "True\n"
     ]
    }
   ],
   "source": [
    "s='465778'\n",
    "s=s.isdigit()\n",
    "print(s)"
   ]
  },
  {
   "cell_type": "markdown",
   "id": "41bd029f",
   "metadata": {},
   "source": [
    "##### Add two numbers"
   ]
  },
  {
   "cell_type": "code",
   "execution_count": 3,
   "id": "6d8139dd",
   "metadata": {},
   "outputs": [
    {
     "name": "stdout",
     "output_type": "stream",
     "text": [
      "23 5 28\n"
     ]
    }
   ],
   "source": [
    "num1 = 23\n",
    "num2 = 5\n",
    "sum = num1+num2\n",
    "print(num1,num2,sum)"
   ]
  },
  {
   "cell_type": "code",
   "execution_count": 12,
   "id": "6e2c18f3",
   "metadata": {},
   "outputs": [
    {
     "name": "stdout",
     "output_type": "stream",
     "text": [
      "first number:4\n",
      "second number:5\n",
      "4 5 9.0\n"
     ]
    }
   ],
   "source": [
    "number1 = input(\"first number:\")\n",
    "number2 = input(\"second number:\")\n",
    "sum = float(number1)+float(number2)\n",
    "print(number1,number2,sum)"
   ]
  },
  {
   "cell_type": "code",
   "execution_count": null,
   "id": "3ab151c8",
   "metadata": {},
   "outputs": [],
   "source": []
  }
 ],
 "metadata": {
  "kernelspec": {
   "display_name": "Python 3",
   "language": "python",
   "name": "python3"
  },
  "language_info": {
   "codemirror_mode": {
    "name": "ipython",
    "version": 3
   },
   "file_extension": ".py",
   "mimetype": "text/x-python",
   "name": "python",
   "nbconvert_exporter": "python",
   "pygments_lexer": "ipython3",
   "version": "3.8.10"
  }
 },
 "nbformat": 4,
 "nbformat_minor": 5
}
