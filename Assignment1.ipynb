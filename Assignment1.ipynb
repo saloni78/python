{
  "nbformat": 4,
  "nbformat_minor": 0,
  "metadata": {
    "colab": {
      "name": "Assignment1.ipynb",
      "provenance": [],
      "authorship_tag": "ABX9TyNvewWYycS349xZP/Wb6Pv0",
      "include_colab_link": true
    },
    "kernelspec": {
      "name": "python3",
      "display_name": "Python 3"
    },
    "language_info": {
      "name": "python"
    }
  },
  "cells": [
    {
      "cell_type": "markdown",
      "metadata": {
        "id": "view-in-github",
        "colab_type": "text"
      },
      "source": [
        "<a href=\"https://colab.research.google.com/github/saloni78/python/blob/main/Assignment1.ipynb\" target=\"_parent\"><img src=\"https://colab.research.google.com/assets/colab-badge.svg\" alt=\"Open In Colab\"/></a>"
      ]
    },
    {
      "cell_type": "code",
      "metadata": {
        "colab": {
          "base_uri": "https://localhost:8080/"
        },
        "id": "ihCOc8DqrRHK",
        "outputId": "d30f2231-fdf9-4c45-e260-33f364dfd0d2"
      },
      "source": [
        "mails = \"\"\"turboslayer@gmail.com someone@outlook.com \n",
        "crashtv@gov.in blue_defender@gmail.com logan@yahoo.com \n",
        "ironmerc@gov.in steeltitan@outlook.com stealthedefender@yahoo.com \n",
        "blaze_assault@gov.in venom_fate@yahoo.com dark_side@yahoo.com \n",
        "fataldestiny@yahoo.com ultimatebeast@outlook.com masked_titan@gmail.com \n",
        "frozen_gunner@yahoo.com username_copied@gov.in whos_ur_buddy@outlook.com \n",
        "unfinished_sentenc@gov.in all_gone@gov.in something@gmail.com president@gmail.com \n",
        "tinfoilhat@gmail.com anonymouse@yahoo.com definitely_not_an_athlete@outlook.com \n",
        "dropout@gov.in paw_friend@outlook.com test_name_please_ignore@gov.in heyyou@gov.in \n",
        "a_distraction@yahoo.com thegodfatherpart4@gov.in unfriendme@outlook.com \n",
        "doodles@gmail.com fluffycookie@yahoo.com theintolerant@gmail.com fourhour@yahoo.com \n",
        "toastedwithcheese@gmail.com futureking@yahoo.com coolshirtbruh@outlook.com \n",
        "kentucky@yahoo.com chocolate@gmail.com saintbroseph@yahoo.com just_chillin@gmail.com \n",
        "ghostface@gov.in bigfootisreal@yahoo.com newbie@yahoo.com alienware@outlook.com \n",
        "chrishemsworth@outlook.com nachocheesefries@outlook.com reginageorge@gov.in \n",
        "harmless_potato@outlook.com frostedcupcake@outlook.com avocadorable@outlook.com \n",
        "pixie_dust@gmail.com chopsuey@yahoo.com iron_man@gov.in lemon_ade@outlook.com \n",
        "cerial_killer@outlook.com light_year@gov.in phoenix@outlook.com harry_potter@outlook.com\"\"\"\n",
        "words = mails.split()\n",
        "print(words)\n"
      ],
      "execution_count": 1,
      "outputs": [
        {
          "output_type": "stream",
          "text": [
            "['turboslayer@gmail.com', 'someone@outlook.com', 'crashtv@gov.in', 'blue_defender@gmail.com', 'logan@yahoo.com', 'ironmerc@gov.in', 'steeltitan@outlook.com', 'stealthedefender@yahoo.com', 'blaze_assault@gov.in', 'venom_fate@yahoo.com', 'dark_side@yahoo.com', 'fataldestiny@yahoo.com', 'ultimatebeast@outlook.com', 'masked_titan@gmail.com', 'frozen_gunner@yahoo.com', 'username_copied@gov.in', 'whos_ur_buddy@outlook.com', 'unfinished_sentenc@gov.in', 'all_gone@gov.in', 'something@gmail.com', 'president@gmail.com', 'tinfoilhat@gmail.com', 'anonymouse@yahoo.com', 'definitely_not_an_athlete@outlook.com', 'dropout@gov.in', 'paw_friend@outlook.com', 'test_name_please_ignore@gov.in', 'heyyou@gov.in', 'a_distraction@yahoo.com', 'thegodfatherpart4@gov.in', 'unfriendme@outlook.com', 'doodles@gmail.com', 'fluffycookie@yahoo.com', 'theintolerant@gmail.com', 'fourhour@yahoo.com', 'toastedwithcheese@gmail.com', 'futureking@yahoo.com', 'coolshirtbruh@outlook.com', 'kentucky@yahoo.com', 'chocolate@gmail.com', 'saintbroseph@yahoo.com', 'just_chillin@gmail.com', 'ghostface@gov.in', 'bigfootisreal@yahoo.com', 'newbie@yahoo.com', 'alienware@outlook.com', 'chrishemsworth@outlook.com', 'nachocheesefries@outlook.com', 'reginageorge@gov.in', 'harmless_potato@outlook.com', 'frostedcupcake@outlook.com', 'avocadorable@outlook.com', 'pixie_dust@gmail.com', 'chopsuey@yahoo.com', 'iron_man@gov.in', 'lemon_ade@outlook.com', 'cerial_killer@outlook.com', 'light_year@gov.in', 'phoenix@outlook.com', 'harry_potter@outlook.com']\n"
          ],
          "name": "stdout"
        }
      ]
    },
    {
      "cell_type": "code",
      "metadata": {
        "colab": {
          "base_uri": "https://localhost:8080/"
        },
        "id": "YCwByPlrrWwL",
        "outputId": "766cd5b4-fe15-447d-a541-54ede68e54e3"
      },
      "source": [
        "print(mails.count(\".com\"))\n",
        "print(mails.count(\".in\"))\n",
        "total_count=mails.count(\".com\")+mails.count(\".in\")\n",
        "print(total_count)"
      ],
      "execution_count": 2,
      "outputs": [
        {
          "output_type": "stream",
          "text": [
            "46\n",
            "14\n",
            "60\n"
          ],
          "name": "stdout"
        }
      ]
    },
    {
      "cell_type": "code",
      "metadata": {
        "colab": {
          "base_uri": "https://localhost:8080/"
        },
        "id": "GJxMqo2LrW_H",
        "outputId": "bbd88aae-305d-4470-b864-f54be1326e93"
      },
      "source": [
        "email = words[0]\n",
        "pieces = email.split('@')\n",
        "print(pieces)"
      ],
      "execution_count": 3,
      "outputs": [
        {
          "output_type": "stream",
          "text": [
            "['turboslayer', 'gmail.com']\n"
          ],
          "name": "stdout"
        }
      ]
    },
    {
      "cell_type": "code",
      "metadata": {
        "colab": {
          "base_uri": "https://localhost:8080/"
        },
        "id": "nC8O2do0rmj0",
        "outputId": "5c183568-4824-4719-fce4-0c13caf32b47"
      },
      "source": [
        "import re\n",
        "mails=\"\"\"turboslayer@gmail.com \n",
        "someone@outlook.com \n",
        "crashtv@gov.in \n",
        "blue_defender@gmail.com\n",
        " logan@yahoo.com \n",
        "ironmerc@gov.in \n",
        "steeltitan@outlook.com \n",
        "stealthedefender@yahoo.com \n",
        "blaze_assault@gov.in \n",
        "venom_fate@yahoo.com \n",
        "dark_side@yahoo.com \n",
        "fataldestiny@yahoo.com \n",
        "ultimatebeast@outlook.com \n",
        "masked_titan@gmail.com \n",
        "frozen_gunner@yahoo.com \n",
        "username_copied@gov.in \n",
        "whos_ur_buddy@outlook.com \n",
        "unfinished_sentenc@gov.in \n",
        "all_gone@gov.in \n",
        "something@gmail.com \n",
        "president@gmail.com \n",
        "tinfoilhat@gmail.com \n",
        "anonymouse@yahoo.com \n",
        "definitely_not_an_athlete@outlook.com \n",
        "dropout@gov.in \n",
        "paw_friend@outlook.com \n",
        "test_name_please_ignore@gov.in \n",
        "heyyou@gov.in \n",
        "a_distraction@yahoo.com \n",
        "thegodfatherpart4@gov.in \n",
        "unfriendme@outlook.com \n",
        "doodles@gmail.com \n",
        "fluffycookie@yahoo.com \n",
        "theintolerant@gmail.com \n",
        "fourhour@yahoo.com \n",
        "toastedwithcheese@gmail.com \n",
        "futureking@yahoo.com \n",
        "coolshirtbruh@outlook.com \n",
        "kentucky@yahoo.com \n",
        "chocolate@gmail.com \n",
        "saintbroseph@yahoo.com \n",
        "just_chillin@gmail.com \n",
        "ghostface@gov.in \n",
        "bigfootisreal@yahoo.com \n",
        "newbie@yahoo.com \n",
        "alienware@outlook.com \n",
        "chrishemsworth@outlook.com \n",
        "nachocheesefries@outlook.com\n",
        " reginageorge@gov.in \n",
        "harmless_potato@outlook.com \n",
        "frostedcupcake@outlook.com \n",
        "avocadorable@outlook.com \n",
        "pixie_dust@gmail.com \n",
        "chopsuey@yahoo.com\n",
        " iron_man@gov.in \n",
        " lemon_ade@outlook.com \n",
        "cerial_killer@outlook.com \n",
        "light_year@gov.in \n",
        "phoenix@outlook.com\n",
        " harry_potter@outlook.com\"\"\"\n",
        "print(re.findall(r'(.+)@(.+)',mails))\n"
      ],
      "execution_count": 4,
      "outputs": [
        {
          "output_type": "stream",
          "text": [
            "[('turboslayer', 'gmail.com '), ('someone', 'outlook.com '), ('crashtv', 'gov.in '), ('blue_defender', 'gmail.com'), (' logan', 'yahoo.com '), ('ironmerc', 'gov.in '), ('steeltitan', 'outlook.com '), ('stealthedefender', 'yahoo.com '), ('blaze_assault', 'gov.in '), ('venom_fate', 'yahoo.com '), ('dark_side', 'yahoo.com '), ('fataldestiny', 'yahoo.com '), ('ultimatebeast', 'outlook.com '), ('masked_titan', 'gmail.com '), ('frozen_gunner', 'yahoo.com '), ('username_copied', 'gov.in '), ('whos_ur_buddy', 'outlook.com '), ('unfinished_sentenc', 'gov.in '), ('all_gone', 'gov.in '), ('something', 'gmail.com '), ('president', 'gmail.com '), ('tinfoilhat', 'gmail.com '), ('anonymouse', 'yahoo.com '), ('definitely_not_an_athlete', 'outlook.com '), ('dropout', 'gov.in '), ('paw_friend', 'outlook.com '), ('test_name_please_ignore', 'gov.in '), ('heyyou', 'gov.in '), ('a_distraction', 'yahoo.com '), ('thegodfatherpart4', 'gov.in '), ('unfriendme', 'outlook.com '), ('doodles', 'gmail.com '), ('fluffycookie', 'yahoo.com '), ('theintolerant', 'gmail.com '), ('fourhour', 'yahoo.com '), ('toastedwithcheese', 'gmail.com '), ('futureking', 'yahoo.com '), ('coolshirtbruh', 'outlook.com '), ('kentucky', 'yahoo.com '), ('chocolate', 'gmail.com '), ('saintbroseph', 'yahoo.com '), ('just_chillin', 'gmail.com '), ('ghostface', 'gov.in '), ('bigfootisreal', 'yahoo.com '), ('newbie', 'yahoo.com '), ('alienware', 'outlook.com '), ('chrishemsworth', 'outlook.com '), ('nachocheesefries', 'outlook.com'), (' reginageorge', 'gov.in '), ('harmless_potato', 'outlook.com '), ('frostedcupcake', 'outlook.com '), ('avocadorable', 'outlook.com '), ('pixie_dust', 'gmail.com '), ('chopsuey', 'yahoo.com'), (' iron_man', 'gov.in '), (' lemon_ade', 'outlook.com '), ('cerial_killer', 'outlook.com '), ('light_year', 'gov.in '), ('phoenix', 'outlook.com'), (' harry_potter', 'outlook.com')]\n"
          ],
          "name": "stdout"
        }
      ]
    },
    {
      "cell_type": "code",
      "metadata": {
        "colab": {
          "base_uri": "https://localhost:8080/"
        },
        "id": "jKmM1zFnrmuV",
        "outputId": "12a5caf0-8f5c-47ac-ad44-72799203dd31"
      },
      "source": [
        "print(mails.count(\"gmail.com\"))\n",
        "print(mails.count(\"outlook.com\"))\n",
        "print(mails.count(\"gov.in\"))\n",
        "print(mails.count(\"yahoo.com\"))"
      ],
      "execution_count": 5,
      "outputs": [
        {
          "output_type": "stream",
          "text": [
            "12\n",
            "18\n",
            "14\n",
            "16\n"
          ],
          "name": "stdout"
        }
      ]
    },
    {
      "cell_type": "code",
      "metadata": {
        "id": "CLTeDUPer3HU"
      },
      "source": [
        ""
      ],
      "execution_count": null,
      "outputs": []
    }
  ]
}