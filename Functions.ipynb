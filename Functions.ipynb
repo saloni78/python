{
  "nbformat": 4,
  "nbformat_minor": 0,
  "metadata": {
    "colab": {
      "name": "Functions.ipynb",
      "provenance": [],
      "collapsed_sections": [],
      "authorship_tag": "ABX9TyNAEDKPb5KUYcWAiBn940n0",
      "include_colab_link": true
    },
    "kernelspec": {
      "name": "python3",
      "display_name": "Python 3"
    },
    "language_info": {
      "name": "python"
    }
  },
  "cells": [
    {
      "cell_type": "markdown",
      "metadata": {
        "id": "view-in-github",
        "colab_type": "text"
      },
      "source": [
        "<a href=\"https://colab.research.google.com/github/saloni78/python/blob/main/Functions.ipynb\" target=\"_parent\"><img src=\"https://colab.research.google.com/assets/colab-badge.svg\" alt=\"Open In Colab\"/></a>"
      ]
    },
    {
      "cell_type": "code",
      "metadata": {
        "colab": {
          "base_uri": "https://localhost:8080/"
        },
        "id": "QCoQxXVmBene",
        "outputId": "7666ccb1-20cb-4168-b37c-a5eac6dbd8a3"
      },
      "source": [
        "alphabets=[\"apple\",\"cat\",\"doll\",\"bat\",\"egg\"]\n",
        "alphabets.sort()\n",
        "print(alphabets)\n"
      ],
      "execution_count": 7,
      "outputs": [
        {
          "output_type": "stream",
          "text": [
            "['apple', 'bat', 'cat', 'doll', 'egg']\n"
          ],
          "name": "stdout"
        }
      ]
    },
    {
      "cell_type": "code",
      "metadata": {
        "colab": {
          "base_uri": "https://localhost:8080/"
        },
        "id": "qqJMGwgVCakE",
        "outputId": "0bdeb0eb-ea04-4a4f-a995-986a435af291"
      },
      "source": [
        "prices=[45.6,466,78.3,20,568]\n",
        "prices.sort()\n",
        "print(prices)"
      ],
      "execution_count": 5,
      "outputs": [
        {
          "output_type": "stream",
          "text": [
            "[20, 45.6, 78.3, 466, 568]\n"
          ],
          "name": "stdout"
        }
      ]
    },
    {
      "cell_type": "code",
      "metadata": {
        "colab": {
          "base_uri": "https://localhost:8080/"
        },
        "id": "1LGNRvVPDzVL",
        "outputId": "4cd81758-e599-4a56-aafe-6dcbf0343d26"
      },
      "source": [
        "names=['gita','ram','sita','hari']\n",
        "type(names)"
      ],
      "execution_count": 10,
      "outputs": [
        {
          "output_type": "execute_result",
          "data": {
            "text/plain": [
              "list"
            ]
          },
          "metadata": {
            "tags": []
          },
          "execution_count": 10
        }
      ]
    },
    {
      "cell_type": "code",
      "metadata": {
        "colab": {
          "base_uri": "https://localhost:8080/"
        },
        "id": "AMfgokagEgHA",
        "outputId": "74ae9341-cbba-4e8a-c83b-5547083cfeea"
      },
      "source": [
        "age=[21,3,34,10,45]\n",
        "type(age)"
      ],
      "execution_count": 11,
      "outputs": [
        {
          "output_type": "execute_result",
          "data": {
            "text/plain": [
              "list"
            ]
          },
          "metadata": {
            "tags": []
          },
          "execution_count": 11
        }
      ]
    },
    {
      "cell_type": "code",
      "metadata": {
        "colab": {
          "base_uri": "https://localhost:8080/"
        },
        "id": "5ZVNFl8OE32q",
        "outputId": "6a38d333-d483-4753-cc27-0aaf349a35c9"
      },
      "source": [
        "days=['sunday','monday','tuesday']\n",
        "days.append('wednesday')\n",
        "print(days)\n"
      ],
      "execution_count": 12,
      "outputs": [
        {
          "output_type": "stream",
          "text": [
            "['sunday', 'monday', 'tuesday', 'wednesday']\n"
          ],
          "name": "stdout"
        }
      ]
    },
    {
      "cell_type": "code",
      "metadata": {
        "colab": {
          "base_uri": "https://localhost:8080/"
        },
        "id": "BVayYO9PFeEF",
        "outputId": "5aed8422-3dfe-45b6-d784-3616ee9ef40b"
      },
      "source": [
        "li=[24,30,11,4,65]\n",
        "li.index(11)"
      ],
      "execution_count": 14,
      "outputs": [
        {
          "output_type": "execute_result",
          "data": {
            "text/plain": [
              "2"
            ]
          },
          "metadata": {
            "tags": []
          },
          "execution_count": 14
        }
      ]
    },
    {
      "cell_type": "code",
      "metadata": {
        "colab": {
          "base_uri": "https://localhost:8080/"
        },
        "id": "bIsPXDhYGLBq",
        "outputId": "e364207b-cf0c-4599-b700-250a158d5a8b"
      },
      "source": [
        "number = [50, 237.81, 345, 463.98, 250] \n",
        "number_max = max(number) \n",
        "print(number_max)"
      ],
      "execution_count": 15,
      "outputs": [
        {
          "output_type": "stream",
          "text": [
            "463.98\n"
          ],
          "name": "stdout"
        }
      ]
    },
    {
      "cell_type": "code",
      "metadata": {
        "colab": {
          "base_uri": "https://localhost:8080/"
        },
        "id": "x5Ndrxe9GtC1",
        "outputId": "dc364a40-30ed-4eda-fc00-34a302838f46"
      },
      "source": [
        "list1=[1,2,3,4]\n",
        "list2=[34,5,60,11,23]\n",
        "print('list1 length is ',len(list1))\n",
        "print('list2 length is ',len(list2))"
      ],
      "execution_count": 24,
      "outputs": [
        {
          "output_type": "stream",
          "text": [
            "list1 length is  4\n",
            "list2 length is  5\n"
          ],
          "name": "stdout"
        }
      ]
    },
    {
      "cell_type": "code",
      "metadata": {
        "id": "P-W67QdpGtQ0"
      },
      "source": [
        "days=['wednesday','thursday','fiday']\n",
        "days.clear()"
      ],
      "execution_count": 26,
      "outputs": []
    },
    {
      "cell_type": "code",
      "metadata": {
        "colab": {
          "base_uri": "https://localhost:8080/"
        },
        "id": "3F39b97RPol2",
        "outputId": "61a00d03-bf08-40cf-8102-9c9fa92585f4"
      },
      "source": [
        "fruits=['apple','orange','grapes']\n",
        "fruits.insert(1,'banana')\n",
        "print(fruits)"
      ],
      "execution_count": 30,
      "outputs": [
        {
          "output_type": "stream",
          "text": [
            "['apple', 'banana', 'orange', 'grapes']\n"
          ],
          "name": "stdout"
        }
      ]
    },
    {
      "cell_type": "code",
      "metadata": {
        "colab": {
          "base_uri": "https://localhost:8080/"
        },
        "id": "oH92LmfcQAAc",
        "outputId": "9695615e-1b57-44c6-b08d-3d8264700d56"
      },
      "source": [
        "humans=['disha','rabi','raj','rabi','jay','rabi']\n",
        "humans.count('rabi')\n"
      ],
      "execution_count": 31,
      "outputs": [
        {
          "output_type": "execute_result",
          "data": {
            "text/plain": [
              "3"
            ]
          },
          "metadata": {
            "tags": []
          },
          "execution_count": 31
        }
      ]
    },
    {
      "cell_type": "code",
      "metadata": {
        "colab": {
          "base_uri": "https://localhost:8080/",
          "height": 35
        },
        "id": "HOgzNKpTQfJ9",
        "outputId": "96ac92f7-5122-4d22-9f83-bffe9c2df238"
      },
      "source": [
        "months=['Jan','Feb','Mar','Apr']\n",
        "months.pop(1)"
      ],
      "execution_count": 32,
      "outputs": [
        {
          "output_type": "execute_result",
          "data": {
            "application/vnd.google.colaboratory.intrinsic+json": {
              "type": "string"
            },
            "text/plain": [
              "'Feb'"
            ]
          },
          "metadata": {
            "tags": []
          },
          "execution_count": 32
        }
      ]
    },
    {
      "cell_type": "code",
      "metadata": {
        "colab": {
          "base_uri": "https://localhost:8080/",
          "height": 35
        },
        "id": "yxcr2ZGLQ2YV",
        "outputId": "4840a8bb-0220-43d2-c944-d41ba14ff8c6"
      },
      "source": [
        "fruits = ['apple', 'banana', 'cherry', 'orange', 'pineapple']\n",
        "fruits.pop(2)"
      ],
      "execution_count": 33,
      "outputs": [
        {
          "output_type": "execute_result",
          "data": {
            "application/vnd.google.colaboratory.intrinsic+json": {
              "type": "string"
            },
            "text/plain": [
              "'cherry'"
            ]
          },
          "metadata": {
            "tags": []
          },
          "execution_count": 33
        }
      ]
    },
    {
      "cell_type": "code",
      "metadata": {
        "id": "X7aOziGHTlEE"
      },
      "source": [
        "fruits = ['apple', 'banana', 'cherry', 'orange', 'pineapple']\n",
        "fruits.reverse()"
      ],
      "execution_count": 40,
      "outputs": []
    }
  ]
}