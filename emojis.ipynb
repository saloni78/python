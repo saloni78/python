{
 "cells": [
  {
   "cell_type": "code",
   "execution_count": 1,
   "id": "502f162f",
   "metadata": {},
   "outputs": [
    {
     "name": "stdout",
     "output_type": "stream",
     "text": [
      "🤗\n"
     ]
    }
   ],
   "source": [
    "print(\"\\U0001F917\")"
   ]
  },
  {
   "cell_type": "code",
   "execution_count": 2,
   "id": "e36cc7e9",
   "metadata": {},
   "outputs": [
    {
     "name": "stdout",
     "output_type": "stream",
     "text": [
      "🤭\n"
     ]
    }
   ],
   "source": [
    "print(\"\\U0001F92D\")"
   ]
  },
  {
   "cell_type": "code",
   "execution_count": 3,
   "id": "6d5bc1d4",
   "metadata": {},
   "outputs": [
    {
     "name": "stdout",
     "output_type": "stream",
     "text": [
      "🤫\n"
     ]
    }
   ],
   "source": [
    "print(\"\\U0001F92B\")"
   ]
  },
  {
   "cell_type": "code",
   "execution_count": 4,
   "id": "62f98cad",
   "metadata": {},
   "outputs": [
    {
     "name": "stdout",
     "output_type": "stream",
     "text": [
      "🤔\n"
     ]
    }
   ],
   "source": [
    "print(\"\\U0001F914\")"
   ]
  },
  {
   "cell_type": "code",
   "execution_count": 5,
   "id": "8e4d507a",
   "metadata": {},
   "outputs": [
    {
     "name": "stdout",
     "output_type": "stream",
     "text": [
      "🤐\n"
     ]
    }
   ],
   "source": [
    "print(\"\\U0001F910\")"
   ]
  },
  {
   "cell_type": "code",
   "execution_count": 6,
   "id": "db171059",
   "metadata": {},
   "outputs": [
    {
     "name": "stdout",
     "output_type": "stream",
     "text": [
      "🤨\n"
     ]
    }
   ],
   "source": [
    "print(\"\\U0001F928\")"
   ]
  },
  {
   "cell_type": "code",
   "execution_count": 7,
   "id": "2295eca5",
   "metadata": {},
   "outputs": [
    {
     "name": "stdout",
     "output_type": "stream",
     "text": [
      "😐\n"
     ]
    }
   ],
   "source": [
    "print(\"\\U0001F610\")"
   ]
  },
  {
   "cell_type": "code",
   "execution_count": 8,
   "id": "716a7841",
   "metadata": {},
   "outputs": [
    {
     "name": "stdout",
     "output_type": "stream",
     "text": [
      "😑\n"
     ]
    }
   ],
   "source": [
    "print(\"\\U0001F611\")"
   ]
  },
  {
   "cell_type": "code",
   "execution_count": 9,
   "id": "2dda2b19",
   "metadata": {},
   "outputs": [
    {
     "name": "stdout",
     "output_type": "stream",
     "text": [
      "😶\n"
     ]
    }
   ],
   "source": [
    "print(\"\\U0001F636\")"
   ]
  },
  {
   "cell_type": "code",
   "execution_count": 10,
   "id": "ca14fded",
   "metadata": {},
   "outputs": [
    {
     "name": "stdout",
     "output_type": "stream",
     "text": [
      "😌\n"
     ]
    }
   ],
   "source": [
    "print(\"\\U0001F60C\")"
   ]
  },
  {
   "cell_type": "code",
   "execution_count": 11,
   "id": "57db2f29",
   "metadata": {},
   "outputs": [
    {
     "name": "stdout",
     "output_type": "stream",
     "text": [
      "😔\n"
     ]
    }
   ],
   "source": [
    "print(\"\\U0001F614\")"
   ]
  },
  {
   "cell_type": "code",
   "execution_count": 12,
   "id": "a70589b6",
   "metadata": {},
   "outputs": [
    {
     "name": "stdout",
     "output_type": "stream",
     "text": [
      "😪\n"
     ]
    }
   ],
   "source": [
    "print(\"\\U0001F62A\")"
   ]
  },
  {
   "cell_type": "code",
   "execution_count": 13,
   "id": "4037e2dc",
   "metadata": {},
   "outputs": [
    {
     "name": "stdout",
     "output_type": "stream",
     "text": [
      "🤤\n"
     ]
    }
   ],
   "source": [
    "print(\"\\U0001F924\")"
   ]
  },
  {
   "cell_type": "code",
   "execution_count": 14,
   "id": "57e136d3",
   "metadata": {},
   "outputs": [
    {
     "name": "stdout",
     "output_type": "stream",
     "text": [
      "😴\n"
     ]
    }
   ],
   "source": [
    "print(\"\\U0001F634\")"
   ]
  },
  {
   "cell_type": "code",
   "execution_count": 15,
   "id": "6c7ee727",
   "metadata": {},
   "outputs": [
    {
     "name": "stdout",
     "output_type": "stream",
     "text": [
      "🙈\n"
     ]
    }
   ],
   "source": [
    "print(\"\\U0001F648\")"
   ]
  },
  {
   "cell_type": "code",
   "execution_count": 16,
   "id": "2d91efa3",
   "metadata": {},
   "outputs": [
    {
     "name": "stdout",
     "output_type": "stream",
     "text": [
      "🙉\n"
     ]
    }
   ],
   "source": [
    "print(\"\\U0001F649\")"
   ]
  },
  {
   "cell_type": "code",
   "execution_count": 17,
   "id": "25f45562",
   "metadata": {},
   "outputs": [
    {
     "name": "stdout",
     "output_type": "stream",
     "text": [
      "🙊\n"
     ]
    }
   ],
   "source": [
    "print(\"\\U0001F64A\")"
   ]
  },
  {
   "cell_type": "code",
   "execution_count": 18,
   "id": "827394cb",
   "metadata": {},
   "outputs": [
    {
     "name": "stdout",
     "output_type": "stream",
     "text": [
      "😎\n"
     ]
    }
   ],
   "source": [
    "print(\"\\U0001F60E\")"
   ]
  },
  {
   "cell_type": "code",
   "execution_count": 19,
   "id": "3fb7e3f5",
   "metadata": {},
   "outputs": [
    {
     "name": "stdout",
     "output_type": "stream",
     "text": [
      "🤓\n"
     ]
    }
   ],
   "source": [
    "print(\"\\U0001F913\")"
   ]
  },
  {
   "cell_type": "code",
   "execution_count": 20,
   "id": "37ba37cc",
   "metadata": {},
   "outputs": [
    {
     "name": "stdout",
     "output_type": "stream",
     "text": [
      "🧐\n"
     ]
    }
   ],
   "source": [
    "print(\"\\U0001F9D0\")"
   ]
  },
  {
   "cell_type": "code",
   "execution_count": 21,
   "id": "714f4cb4",
   "metadata": {},
   "outputs": [
    {
     "name": "stdout",
     "output_type": "stream",
     "text": [
      "😀\n"
     ]
    }
   ],
   "source": [
    "print(\"\\U0001F600\")"
   ]
  },
  {
   "cell_type": "code",
   "execution_count": 22,
   "id": "20ff0da2",
   "metadata": {},
   "outputs": [
    {
     "name": "stdout",
     "output_type": "stream",
     "text": [
      "😃\n"
     ]
    }
   ],
   "source": [
    "print(\"\\U0001F603\")"
   ]
  },
  {
   "cell_type": "code",
   "execution_count": 23,
   "id": "a64521c4",
   "metadata": {},
   "outputs": [
    {
     "name": "stdout",
     "output_type": "stream",
     "text": [
      "😄\n"
     ]
    }
   ],
   "source": [
    "print(\"\\U0001F604\")"
   ]
  },
  {
   "cell_type": "code",
   "execution_count": 24,
   "id": "f5173e2b",
   "metadata": {},
   "outputs": [
    {
     "name": "stdout",
     "output_type": "stream",
     "text": [
      "😁\n"
     ]
    }
   ],
   "source": [
    "print(\"\\U0001F601\")"
   ]
  },
  {
   "cell_type": "code",
   "execution_count": 25,
   "id": "fc0f5f3e",
   "metadata": {},
   "outputs": [
    {
     "name": "stdout",
     "output_type": "stream",
     "text": [
      "😆\n"
     ]
    }
   ],
   "source": [
    "print(\"\\U0001F606\")"
   ]
  },
  {
   "cell_type": "code",
   "execution_count": 26,
   "id": "254f797e",
   "metadata": {},
   "outputs": [
    {
     "name": "stdout",
     "output_type": "stream",
     "text": [
      "😅\n"
     ]
    }
   ],
   "source": [
    "print(\"\\U0001F605\")"
   ]
  },
  {
   "cell_type": "code",
   "execution_count": 27,
   "id": "3b30d7e9",
   "metadata": {},
   "outputs": [
    {
     "name": "stdout",
     "output_type": "stream",
     "text": [
      "🤣\n"
     ]
    }
   ],
   "source": [
    "print(\"\\U0001F923\")"
   ]
  },
  {
   "cell_type": "code",
   "execution_count": null,
   "id": "395812ea",
   "metadata": {},
   "outputs": [],
   "source": []
  },
  {
   "cell_type": "code",
   "execution_count": null,
   "id": "580201f5",
   "metadata": {},
   "outputs": [],
   "source": []
  }
 ],
 "metadata": {
  "kernelspec": {
   "display_name": "Python 3",
   "language": "python",
   "name": "python3"
  },
  "language_info": {
   "codemirror_mode": {
    "name": "ipython",
    "version": 3
   },
   "file_extension": ".py",
   "mimetype": "text/x-python",
   "name": "python",
   "nbconvert_exporter": "python",
   "pygments_lexer": "ipython3",
   "version": "3.8.10"
  }
 },
 "nbformat": 4,
 "nbformat_minor": 5
}
